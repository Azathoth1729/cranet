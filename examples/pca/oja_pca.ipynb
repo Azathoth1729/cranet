{
 "cells": [
  {
   "cell_type": "code",
   "execution_count": null,
   "metadata": {},
   "outputs": [],
   "source": [
    "import os\n",
    "import numpy as np\n",
    "from PIL import Image\n",
    "import matplotlib.pyplot as plt\n",
    "\n",
    "from cranet import nn, optim\n",
    "from cranet.data import Dataset, DataLoader\n",
    "from typing import (\n",
    "    List,\n",
    "    Tuple\n",
    ")"
   ]
  },
  {
   "cell_type": "code",
   "execution_count": null,
   "metadata": {},
   "outputs": [],
   "source": [
    "PRJ_DIR = \".\"\n",
    "DATA_DIR = os.path.join(PRJ_DIR, \"datasets\")\n",
    "DATA_PATH = os.path.join(DATA_DIR, \"Lenna.png\")"
   ]
  },
  {
   "cell_type": "code",
   "execution_count": null,
   "metadata": {},
   "outputs": [],
   "source": [
    "def rgb2gray(rgb):\n",
    "    return np.dot(rgb[..., :3], [0.2989, 0.5870, 0.1140])\n",
    "\n",
    "def read_img(path: str) -> np.ndarray:\n",
    "    img = np.asarray(Image.open(path))\n",
    "    img = rgb2gray(img)\n",
    "    out =  img/255.0\n",
    "    return out\n",
    "\n",
    "def flatten(x: np.ndarray) -> np.ndarray:\n",
    "    return x.reshape(-1, 1)"
   ]
  },
  {
   "cell_type": "code",
   "execution_count": null,
   "metadata": {},
   "outputs": [],
   "source": [
    "img = read_img(DATA_PATH)\n",
    "plt.imshow(img)"
   ]
  },
  {
   "cell_type": "code",
   "execution_count": null,
   "metadata": {},
   "outputs": [],
   "source": [
    "def slicer(img: np.ndarray, slice_feature: Tuple) -> List[np.ndarray]:\n",
    "    row, col = img.shape\n",
    "    M, N = slice_feature\n",
    "    return [ img[x:x+M, y:y+N] for x in range(0, row, M) for y in range(0, col, N)]"
   ]
  },
  {
   "cell_type": "code",
   "execution_count": null,
   "metadata": {},
   "outputs": [],
   "source": [
    "slices = slicer(img, (8,8))"
   ]
  },
  {
   "cell_type": "code",
   "execution_count": null,
   "metadata": {},
   "outputs": [],
   "source": [
    "len(slices)\n",
    "# slices[0].size"
   ]
  },
  {
   "cell_type": "code",
   "execution_count": null,
   "metadata": {},
   "outputs": [],
   "source": [
    "a = flatten(slices[0])\n",
    "print(a.shape)\n",
    "plt.imshow(slices[0])"
   ]
  },
  {
   "cell_type": "code",
   "execution_count": null,
   "metadata": {},
   "outputs": [],
   "source": [
    "model = nn.Linear(8 * 8, 1, bias=False)\n",
    "param = model.parameters()\n",
    "sum(1 for _ in param)"
   ]
  },
  {
   "cell_type": "code",
   "execution_count": null,
   "metadata": {},
   "outputs": [],
   "source": [
    "training_data = [ flatten(x) for x in slices]"
   ]
  },
  {
   "cell_type": "code",
   "execution_count": null,
   "metadata": {},
   "outputs": [],
   "source": [
    "LEARNING_RATE = 0.01\n",
    "EPOCH = 1000"
   ]
  },
  {
   "cell_type": "code",
   "execution_count": null,
   "metadata": {},
   "outputs": [],
   "source": [
    "def train_step(training_data):\n",
    "    for model in models:\n",
    "        ...\n",
    "    \n",
    "for i in range(EPOCH):\n",
    "    # pca.update(tranning_data[0], LEARNING_RATE)\n",
    "    train_step(LEARNING_RATE)\n",
    "    pass"
   ]
  },
  {
   "cell_type": "code",
   "execution_count": null,
   "metadata": {},
   "outputs": [],
   "source": [
    "def reconstruct():\n",
    "    return [ model(y) for model, y in zip(models, 'compress')]"
   ]
  },
  {
   "cell_type": "code",
   "execution_count": null,
   "metadata": {},
   "outputs": [],
   "source": [
    "import torch"
   ]
  },
  {
   "cell_type": "code",
   "execution_count": null,
   "metadata": {},
   "outputs": [],
   "source": [
    "a=torch.empty((2,3), dtype=torch.int32)\n",
    "print(a)"
   ]
  },
  {
   "cell_type": "code",
   "execution_count": null,
   "metadata": {},
   "outputs": [],
   "source": []
  }
 ],
 "metadata": {
  "interpreter": {
   "hash": "a9314f46a7119c16abb04bcfc9d1bafd6189eebcbb9ce9170c9a9902c6ccdf1d"
  },
  "kernelspec": {
   "display_name": "Python 3.8.11 64-bit ('data-science': conda)",
   "language": "python",
   "name": "python3811jvsc74a57bd0198670d92178980cbebc9ad2037ec6041e0a309b2dd6fc65df62e988742707e1"
  },
  "language_info": {
   "codemirror_mode": {
    "name": "ipython",
    "version": 3
   },
   "file_extension": ".py",
   "mimetype": "text/x-python",
   "name": "python",
   "nbconvert_exporter": "python",
   "pygments_lexer": "ipython3",
   "version": "3.7.5"
  },
  "orig_nbformat": 4
 },
 "nbformat": 4,
 "nbformat_minor": 2
}
