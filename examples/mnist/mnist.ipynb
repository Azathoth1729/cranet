{
 "cells": [
  {
   "cell_type": "code",
   "execution_count": 10,
   "source": [
    "import dpln\n",
    "from dpln import nn, optim\n",
    "from dpln.util import load_pickle\n",
    "from dpln.data import Dataset, DataLoader\n",
    "\n",
    "import numpy as np\n",
    "from matplotlib import pyplot as plt\n",
    "\n",
    "print(dpln.__version__)"
   ],
   "outputs": [
    {
     "name": "stdout",
     "output_type": "stream",
     "text": [
      "0.1.0\n"
     ]
    }
   ],
   "metadata": {}
  },
  {
   "cell_type": "code",
   "execution_count": 11,
   "source": [
    "mnist = load_pickle(\"mnist.pkl\")"
   ],
   "outputs": [
    {
     "ename": "FileNotFoundError",
     "evalue": "[Errno 2] No such file or directory: 'mnist.pkl'",
     "output_type": "error",
     "traceback": [
      "\u001B[0;31m---------------------------------------------------------------------------\u001B[0m",
      "\u001B[0;31mFileNotFoundError\u001B[0m                         Traceback (most recent call last)",
      "\u001B[0;32m/tmp/ipykernel_44219/2825157489.py\u001B[0m in \u001B[0;36m<module>\u001B[0;34m\u001B[0m\n\u001B[0;32m----> 1\u001B[0;31m \u001B[0mmnist\u001B[0m \u001B[0;34m=\u001B[0m \u001B[0mload_pickle\u001B[0m\u001B[0;34m(\u001B[0m\u001B[0;34m\"mnist.pkl\"\u001B[0m\u001B[0;34m)\u001B[0m\u001B[0;34m\u001B[0m\u001B[0;34m\u001B[0m\u001B[0m\n\u001B[0m\u001B[1;32m      2\u001B[0m \u001B[0;34m\u001B[0m\u001B[0m\n",
      "\u001B[0;32m~/miniconda3/envs/data-science/lib/python3.7/site-packages/dpln/util.py\u001B[0m in \u001B[0;36mload_pickle\u001B[0;34m(filename)\u001B[0m\n\u001B[1;32m      6\u001B[0m \u001B[0;34m\u001B[0m\u001B[0m\n\u001B[1;32m      7\u001B[0m \u001B[0;32mdef\u001B[0m \u001B[0mload_pickle\u001B[0m\u001B[0;34m(\u001B[0m\u001B[0mfilename\u001B[0m\u001B[0;34m:\u001B[0m \u001B[0mstr\u001B[0m\u001B[0;34m)\u001B[0m\u001B[0;34m:\u001B[0m\u001B[0;34m\u001B[0m\u001B[0;34m\u001B[0m\u001B[0m\n\u001B[0;32m----> 8\u001B[0;31m     \u001B[0;32mwith\u001B[0m \u001B[0mopen\u001B[0m\u001B[0;34m(\u001B[0m\u001B[0mfilename\u001B[0m\u001B[0;34m,\u001B[0m \u001B[0;34m\"rb\"\u001B[0m\u001B[0;34m)\u001B[0m \u001B[0;32mas\u001B[0m \u001B[0mf\u001B[0m\u001B[0;34m:\u001B[0m\u001B[0;34m\u001B[0m\u001B[0;34m\u001B[0m\u001B[0m\n\u001B[0m\u001B[1;32m      9\u001B[0m         \u001B[0;32mreturn\u001B[0m \u001B[0mpickle\u001B[0m\u001B[0;34m.\u001B[0m\u001B[0mload\u001B[0m\u001B[0;34m(\u001B[0m\u001B[0mf\u001B[0m\u001B[0;34m)\u001B[0m\u001B[0;34m\u001B[0m\u001B[0;34m\u001B[0m\u001B[0m\n\u001B[1;32m     10\u001B[0m \u001B[0;34m\u001B[0m\u001B[0m\n",
      "\u001B[0;31mFileNotFoundError\u001B[0m: [Errno 2] No such file or directory: 'mnist.pkl'"
     ]
    }
   ],
   "metadata": {}
  },
  {
   "cell_type": "code",
   "execution_count": 12,
   "source": [
    "class MnistDataset(Dataset):\n",
    "    def __init__(self, images, labels, transform=None):\n",
    "        if len(images) != len(labels):\n",
    "            raise ValueError(\"length of images and labels must equal\")\n",
    "        self.images = images\n",
    "        self.labels = labels\n",
    "        self.transform = transform\n",
    "\n",
    "    def __len__(self):\n",
    "        return len(self.images)\n",
    "\n",
    "    def __getitem__(self, idx):\n",
    "        r = self.images[idx], self.labels[idx]\n",
    "        if self.transform is None:\n",
    "            return r\n",
    "        else:\n",
    "            return self.transform(r)\n"
   ],
   "outputs": [],
   "metadata": {}
  },
  {
   "cell_type": "code",
   "execution_count": 13,
   "source": [
    "def transform(pair):\n",
    "    inp = dpln.Tensor(pair[0].reshape(28 * 28) / 256)\n",
    "    lab = np.zeros(10)\n",
    "    lab[pair[1]] = 1\n",
    "    lab = dpln.Tensor(lab)\n",
    "    return inp, lab\n"
   ],
   "outputs": [],
   "metadata": {}
  },
  {
   "cell_type": "code",
   "execution_count": 14,
   "source": [
    "train_ds = MnistDataset(mnist[\"train_images\"], mnist[\"train_labels\"], transform)\n",
    "test_ds = MnistDataset(mnist[\"test_images\"], mnist[\"test_labels\"], transform)"
   ],
   "outputs": [
    {
     "ename": "NameError",
     "evalue": "name 'mnist' is not defined",
     "output_type": "error",
     "traceback": [
      "\u001B[0;31m---------------------------------------------------------------------------\u001B[0m",
      "\u001B[0;31mNameError\u001B[0m                                 Traceback (most recent call last)",
      "\u001B[0;32m/tmp/ipykernel_44219/2201804761.py\u001B[0m in \u001B[0;36m<module>\u001B[0;34m\u001B[0m\n\u001B[0;32m----> 1\u001B[0;31m \u001B[0mtrain_ds\u001B[0m \u001B[0;34m=\u001B[0m \u001B[0mMnistDataset\u001B[0m\u001B[0;34m(\u001B[0m\u001B[0mmnist\u001B[0m\u001B[0;34m[\u001B[0m\u001B[0;34m\"train_images\"\u001B[0m\u001B[0;34m]\u001B[0m\u001B[0;34m,\u001B[0m \u001B[0mmnist\u001B[0m\u001B[0;34m[\u001B[0m\u001B[0;34m\"train_labels\"\u001B[0m\u001B[0;34m]\u001B[0m\u001B[0;34m,\u001B[0m \u001B[0mtransform\u001B[0m\u001B[0;34m)\u001B[0m\u001B[0;34m\u001B[0m\u001B[0;34m\u001B[0m\u001B[0m\n\u001B[0m\u001B[1;32m      2\u001B[0m \u001B[0mtest_ds\u001B[0m \u001B[0;34m=\u001B[0m \u001B[0mMnistDataset\u001B[0m\u001B[0;34m(\u001B[0m\u001B[0mmnist\u001B[0m\u001B[0;34m[\u001B[0m\u001B[0;34m\"test_images\"\u001B[0m\u001B[0;34m]\u001B[0m\u001B[0;34m,\u001B[0m \u001B[0mmnist\u001B[0m\u001B[0;34m[\u001B[0m\u001B[0;34m\"test_labels\"\u001B[0m\u001B[0;34m]\u001B[0m\u001B[0;34m,\u001B[0m \u001B[0mtransform\u001B[0m\u001B[0;34m)\u001B[0m\u001B[0;34m\u001B[0m\u001B[0;34m\u001B[0m\u001B[0m\n\u001B[1;32m      3\u001B[0m \u001B[0;34m\u001B[0m\u001B[0m\n",
      "\u001B[0;31mNameError\u001B[0m: name 'mnist' is not defined"
     ]
    }
   ],
   "metadata": {}
  },
  {
   "cell_type": "code",
   "execution_count": 6,
   "source": [
    "def batch_fn(batch):\n",
    "    images = []\n",
    "    labels = []\n",
    "    for i in batch:\n",
    "        images.append(i[0][np.newaxis, :])\n",
    "        labels.append(i[1][np.newaxis, :])\n",
    "    return dpln.concat(images), dpln.concat(labels)\n"
   ],
   "outputs": [],
   "metadata": {}
  },
  {
   "cell_type": "code",
   "execution_count": 7,
   "source": [
    "train_ld = DataLoader(train_ds, 50, batch_fn)\n",
    "test_ld = DataLoader(test_ds, 1000, batch_fn)"
   ],
   "outputs": [],
   "metadata": {}
  },
  {
   "cell_type": "code",
   "execution_count": 8,
   "source": [
    "sample_image_batch, sample_label_batch = next(iter(train_ld))\n",
    "sample_image = sample_image_batch.numpy()[0].reshape(1, 784)\n",
    "sample_label = sample_label_batch.numpy()[0].reshape(1, 10)"
   ],
   "outputs": [],
   "metadata": {}
  },
  {
   "cell_type": "code",
   "execution_count": 9,
   "source": [
    "plt.imshow(sample_image.reshape(28, 28))"
   ],
   "outputs": [
    {
     "output_type": "execute_result",
     "data": {
      "text/plain": [
       "<matplotlib.image.AxesImage at 0x7f2793eaea60>"
      ]
     },
     "metadata": {},
     "execution_count": 9
    },
    {
     "output_type": "display_data",
     "data": {
      "image/png": "[encoded data removed]",
      "text/plain": [
       "<Figure size 432x288 with 1 Axes>"
      ]
     },
     "metadata": {
      "needs_background": "light"
     }
    }
   ],
   "metadata": {}
  },
  {
   "cell_type": "code",
   "execution_count": 10,
   "source": [
    "print(sample_label)"
   ],
   "outputs": [
    {
     "output_type": "stream",
     "name": "stdout",
     "text": [
      "[[0. 0. 0. 0. 0. 1. 0. 0. 0. 0.]]\n"
     ]
    }
   ],
   "metadata": {}
  },
  {
   "cell_type": "code",
   "execution_count": 11,
   "source": [
    "model = nn.Sequential(\n",
    "    nn.Linear(28 * 28, 64),\n",
    "    nn.Sigmoid(),\n",
    "    nn.Linear(64, 32),\n",
    "    nn.Sigmoid(),\n",
    "    nn.Linear(32, 10),\n",
    "    nn.Softmax(),\n",
    ")"
   ],
   "outputs": [],
   "metadata": {}
  },
  {
   "cell_type": "code",
   "execution_count": 2,
   "source": [
    "print(model)"
   ],
   "outputs": [
    {
     "ename": "NameError",
     "evalue": "name 'model' is not defined",
     "output_type": "error",
     "traceback": [
      "\u001B[0;31m---------------------------------------------------------------------------\u001B[0m",
      "\u001B[0;31mNameError\u001B[0m                                 Traceback (most recent call last)",
      "\u001B[0;32m/tmp/ipykernel_44219/290727316.py\u001B[0m in \u001B[0;36m<module>\u001B[0;34m\u001B[0m\n\u001B[0;32m----> 1\u001B[0;31m \u001B[0mprint\u001B[0m\u001B[0;34m(\u001B[0m\u001B[0mmodel\u001B[0m\u001B[0;34m)\u001B[0m\u001B[0;34m\u001B[0m\u001B[0;34m\u001B[0m\u001B[0m\n\u001B[0m\u001B[1;32m      2\u001B[0m \u001B[0;34m\u001B[0m\u001B[0m\n",
      "\u001B[0;31mNameError\u001B[0m: name 'model' is not defined"
     ]
    }
   ],
   "metadata": {}
  },
  {
   "cell_type": "code",
   "execution_count": 13,
   "source": [
    "optm = optim.SGD(model.parameters(), 1)"
   ],
   "outputs": [],
   "metadata": {}
  },
  {
   "cell_type": "code",
   "execution_count": 14,
   "source": [
    "loss_f = nn.MSELoss()"
   ],
   "outputs": [],
   "metadata": {}
  },
  {
   "cell_type": "code",
   "execution_count": 15,
   "source": [
    "train_loss = []\n",
    "train_accu = []"
   ],
   "outputs": [],
   "metadata": {}
  },
  {
   "cell_type": "code",
   "execution_count": 16,
   "source": [
    "def train_step(epoch: int, model, train_ld, optm, loss_f):\n",
    "    batch_size = len(train_ld)\n",
    "    for b, (inp, tar) in enumerate(train_ld):\n",
    "        optm.zero_grad()\n",
    "        pre = model(inp)\n",
    "        loss = loss_f(pre, tar)\n",
    "        loss.backward()\n",
    "        optm.step()\n",
    "        loss_v = loss.numpy()\n",
    "        train_loss.append(loss_v)\n",
    "        if b % 100 == 0:\n",
    "            print(f\"Epoch:{epoch + 1}\\tStep:{b}/{batch_size}\\t\\tLoss:{loss_v}\")\n"
   ],
   "outputs": [],
   "metadata": {}
  },
  {
   "cell_type": "code",
   "execution_count": 17,
   "source": [
    "def accuracy(model, test_ld) -> float:\n",
    "    correct = 0\n",
    "    total = 0\n",
    "    for (inp, tar) in test_ld:\n",
    "        pre = model(inp)\n",
    "        pre_am = pre.numpy().argmax(axis=-1)\n",
    "        tar_am = tar.numpy().argmax(axis=-1)\n",
    "        res = np.where(pre_am == tar_am, 1, 0)\n",
    "        correct += res.sum()\n",
    "        total += res.size\n",
    "    return correct / total\n"
   ],
   "outputs": [],
   "metadata": {}
  },
  {
   "cell_type": "code",
   "execution_count": 18,
   "source": [
    "epochs = 20"
   ],
   "outputs": [],
   "metadata": {}
  },
  {
   "cell_type": "code",
   "execution_count": 19,
   "source": [
    "for i in range(epochs):\n",
    "    train_step(i, model, train_ld, optm, loss_f)\n",
    "    accu = accuracy(model, test_ld)\n",
    "    train_accu.append(accu)\n",
    "    print(f\"Epoch:{i+1}\\tAccu:{accu}\")\n"
   ],
   "outputs": [
    {
     "output_type": "stream",
     "name": "stdout",
     "text": [
      "Epoch:1\tStep:0/1200\t\tLoss:0.09024244900814252\n",
      "Epoch:1\tStep:100/1200\t\tLoss:0.08984179173381755\n",
      "Epoch:1\tStep:200/1200\t\tLoss:0.08995014860514579\n",
      "Epoch:1\tStep:300/1200\t\tLoss:0.08991015514721568\n",
      "Epoch:1\tStep:400/1200\t\tLoss:0.08996513943854018\n",
      "Epoch:1\tStep:500/1200\t\tLoss:0.0898448712829739\n",
      "Epoch:1\tStep:600/1200\t\tLoss:0.08998307922285165\n",
      "Epoch:1\tStep:700/1200\t\tLoss:0.08987683266805327\n",
      "Epoch:1\tStep:800/1200\t\tLoss:0.0898898525530576\n",
      "Epoch:1\tStep:900/1200\t\tLoss:0.08998262024264564\n",
      "Epoch:1\tStep:1000/1200\t\tLoss:0.08999302687006337\n",
      "Epoch:1\tStep:1100/1200\t\tLoss:0.08970653843758777\n",
      "Epoch:1\tAccu:0.1028\n",
      "Epoch:2\tStep:0/1200\t\tLoss:0.08981140675783167\n",
      "Epoch:2\tStep:100/1200\t\tLoss:0.08967593732082113\n",
      "Epoch:2\tStep:200/1200\t\tLoss:0.08973364376664429\n",
      "Epoch:2\tStep:300/1200\t\tLoss:0.08969434537678504\n",
      "Epoch:2\tStep:400/1200\t\tLoss:0.08980592358744381\n",
      "Epoch:2\tStep:500/1200\t\tLoss:0.08959812158268332\n",
      "Epoch:2\tStep:600/1200\t\tLoss:0.0897779106724905\n",
      "Epoch:2\tStep:700/1200\t\tLoss:0.08965262712599577\n",
      "Epoch:2\tStep:800/1200\t\tLoss:0.08957885035911768\n",
      "Epoch:2\tStep:900/1200\t\tLoss:0.0896842496442963\n",
      "Epoch:2\tStep:1000/1200\t\tLoss:0.08964072546731243\n",
      "Epoch:2\tStep:1100/1200\t\tLoss:0.08927807627531088\n",
      "Epoch:2\tAccu:0.2491\n",
      "Epoch:3\tStep:0/1200\t\tLoss:0.08932979961867256\n",
      "Epoch:3\tStep:100/1200\t\tLoss:0.0891044927602827\n",
      "Epoch:3\tStep:200/1200\t\tLoss:0.08901321696397103\n",
      "Epoch:3\tStep:300/1200\t\tLoss:0.08890177430860137\n",
      "Epoch:3\tStep:400/1200\t\tLoss:0.0891603070228132\n",
      "Epoch:3\tStep:500/1200\t\tLoss:0.08853518327143779\n",
      "Epoch:3\tStep:600/1200\t\tLoss:0.08879747004592398\n",
      "Epoch:3\tStep:700/1200\t\tLoss:0.08859221241252026\n",
      "Epoch:3\tStep:800/1200\t\tLoss:0.08762552328435345\n",
      "Epoch:3\tStep:900/1200\t\tLoss:0.08761145682617874\n",
      "Epoch:3\tStep:1000/1200\t\tLoss:0.0870778323986079\n",
      "Epoch:3\tStep:1100/1200\t\tLoss:0.08537830432019873\n",
      "Epoch:3\tAccu:0.3337\n",
      "Epoch:4\tStep:0/1200\t\tLoss:0.08464143825986764\n",
      "Epoch:4\tStep:100/1200\t\tLoss:0.08231797790729437\n",
      "Epoch:4\tStep:200/1200\t\tLoss:0.07925573568939766\n",
      "Epoch:4\tStep:300/1200\t\tLoss:0.07583165773773527\n",
      "Epoch:4\tStep:400/1200\t\tLoss:0.0802761852541489\n",
      "Epoch:4\tStep:500/1200\t\tLoss:0.07334737155779206\n",
      "Epoch:4\tStep:600/1200\t\tLoss:0.07511188649396941\n",
      "Epoch:4\tStep:700/1200\t\tLoss:0.07472805956294991\n",
      "Epoch:4\tStep:800/1200\t\tLoss:0.06701459174458096\n",
      "Epoch:4\tStep:900/1200\t\tLoss:0.06934183491467812\n",
      "Epoch:4\tStep:1000/1200\t\tLoss:0.06713146632003242\n",
      "Epoch:4\tStep:1100/1200\t\tLoss:0.0609907229385221\n",
      "Epoch:4\tAccu:0.4878\n",
      "Epoch:5\tStep:0/1200\t\tLoss:0.06187107414529371\n",
      "Epoch:5\tStep:100/1200\t\tLoss:0.05850967038698261\n",
      "Epoch:5\tStep:200/1200\t\tLoss:0.05560258820343171\n",
      "Epoch:5\tStep:300/1200\t\tLoss:0.05370718468032605\n",
      "Epoch:5\tStep:400/1200\t\tLoss:0.06257859973593334\n",
      "Epoch:5\tStep:500/1200\t\tLoss:0.052165358232357684\n",
      "Epoch:5\tStep:600/1200\t\tLoss:0.056259728761547244\n",
      "Epoch:5\tStep:700/1200\t\tLoss:0.058711494286720144\n",
      "Epoch:5\tStep:800/1200\t\tLoss:0.04719795044721468\n",
      "Epoch:5\tStep:900/1200\t\tLoss:0.052306130629544\n",
      "Epoch:5\tStep:1000/1200\t\tLoss:0.0494155377333196\n",
      "Epoch:5\tStep:1100/1200\t\tLoss:0.04301704838946722\n",
      "Epoch:5\tAccu:0.7026\n",
      "Epoch:6\tStep:0/1200\t\tLoss:0.04830642218634921\n",
      "Epoch:6\tStep:100/1200\t\tLoss:0.03997534801920441\n",
      "Epoch:6\tStep:200/1200\t\tLoss:0.03906957670879017\n",
      "Epoch:6\tStep:300/1200\t\tLoss:0.03519511646924215\n",
      "Epoch:6\tStep:400/1200\t\tLoss:0.047390787390403685\n",
      "Epoch:6\tStep:500/1200\t\tLoss:0.031911499331991576\n",
      "Epoch:6\tStep:600/1200\t\tLoss:0.037315368406262595\n",
      "Epoch:6\tStep:700/1200\t\tLoss:0.03544711013390041\n",
      "Epoch:6\tStep:800/1200\t\tLoss:0.028045830957792176\n",
      "Epoch:6\tStep:900/1200\t\tLoss:0.0402458254436837\n",
      "Epoch:6\tStep:1000/1200\t\tLoss:0.03195216638690622\n",
      "Epoch:6\tStep:1100/1200\t\tLoss:0.028553272709574515\n",
      "Epoch:6\tAccu:0.8201\n",
      "Epoch:7\tStep:0/1200\t\tLoss:0.039402165273858786\n",
      "Epoch:7\tStep:100/1200\t\tLoss:0.028033744685442234\n",
      "Epoch:7\tStep:200/1200\t\tLoss:0.030492625796602203\n",
      "Epoch:7\tStep:300/1200\t\tLoss:0.020879236157068253\n",
      "Epoch:7\tStep:400/1200\t\tLoss:0.036727403489523774\n",
      "Epoch:7\tStep:500/1200\t\tLoss:0.01827443502863448\n",
      "Epoch:7\tStep:600/1200\t\tLoss:0.027082800002584635\n",
      "Epoch:7\tStep:700/1200\t\tLoss:0.019039273636661767\n",
      "Epoch:7\tStep:800/1200\t\tLoss:0.01911400669033222\n",
      "Epoch:7\tStep:900/1200\t\tLoss:0.03352450564249598\n",
      "Epoch:7\tStep:1000/1200\t\tLoss:0.021571974024448576\n",
      "Epoch:7\tStep:1100/1200\t\tLoss:0.019776423191638533\n",
      "Epoch:7\tAccu:0.8578\n",
      "Epoch:8\tStep:0/1200\t\tLoss:0.03275836692444239\n",
      "Epoch:8\tStep:100/1200\t\tLoss:0.020809488913283408\n",
      "Epoch:8\tStep:200/1200\t\tLoss:0.02764634260016809\n",
      "Epoch:8\tStep:300/1200\t\tLoss:0.012354855600466284\n",
      "Epoch:8\tStep:400/1200\t\tLoss:0.031269340919180294\n",
      "Epoch:8\tStep:500/1200\t\tLoss:0.012516620596084388\n",
      "Epoch:8\tStep:600/1200\t\tLoss:0.022331338609940136\n",
      "Epoch:8\tStep:700/1200\t\tLoss:0.012506811903139688\n",
      "Epoch:8\tStep:800/1200\t\tLoss:0.015255425794585413\n",
      "Epoch:8\tStep:900/1200\t\tLoss:0.03096071895799703\n",
      "Epoch:8\tStep:1000/1200\t\tLoss:0.016939790674992416\n",
      "Epoch:8\tStep:1100/1200\t\tLoss:0.016069619295198755\n",
      "Epoch:8\tAccu:0.8805\n",
      "Epoch:9\tStep:0/1200\t\tLoss:0.0263750049084829\n",
      "Epoch:9\tStep:100/1200\t\tLoss:0.016532120110927983\n",
      "Epoch:9\tStep:200/1200\t\tLoss:0.026341524205743486\n",
      "Epoch:9\tStep:300/1200\t\tLoss:0.008536941352383998\n",
      "Epoch:9\tStep:400/1200\t\tLoss:0.027990706596211376\n",
      "Epoch:9\tStep:500/1200\t\tLoss:0.009771935562224965\n",
      "Epoch:9\tStep:600/1200\t\tLoss:0.021085769439817412\n",
      "Epoch:9\tStep:700/1200\t\tLoss:0.009473671412289707\n",
      "Epoch:9\tStep:800/1200\t\tLoss:0.013764221384259888\n",
      "Epoch:9\tStep:900/1200\t\tLoss:0.03000327031920326\n",
      "Epoch:9\tStep:1000/1200\t\tLoss:0.014191547088502642\n",
      "Epoch:9\tStep:1100/1200\t\tLoss:0.014485666167383929\n",
      "Epoch:9\tAccu:0.8921\n",
      "Epoch:10\tStep:0/1200\t\tLoss:0.02152870729814934\n",
      "Epoch:10\tStep:100/1200\t\tLoss:0.013810212131624573\n",
      "Epoch:10\tStep:200/1200\t\tLoss:0.025110410092436437\n",
      "Epoch:10\tStep:300/1200\t\tLoss:0.007041803029206288\n",
      "Epoch:10\tStep:400/1200\t\tLoss:0.025660997500365334\n",
      "Epoch:10\tStep:500/1200\t\tLoss:0.008048340955107819\n",
      "Epoch:10\tStep:600/1200\t\tLoss:0.020757679097660436\n",
      "Epoch:10\tStep:700/1200\t\tLoss:0.00757813070458826\n",
      "Epoch:10\tStep:800/1200\t\tLoss:0.01279323552022072\n",
      "Epoch:10\tStep:900/1200\t\tLoss:0.029246421644550415\n",
      "Epoch:10\tStep:1000/1200\t\tLoss:0.01225942387078297\n",
      "Epoch:10\tStep:1100/1200\t\tLoss:0.013455977006563419\n",
      "Epoch:10\tAccu:0.8998\n",
      "Epoch:11\tStep:0/1200\t\tLoss:0.018003728921437107\n",
      "Epoch:11\tStep:100/1200\t\tLoss:0.012131362816533545\n",
      "Epoch:11\tStep:200/1200\t\tLoss:0.023520926831790467\n",
      "Epoch:11\tStep:300/1200\t\tLoss:0.006201397427852858\n",
      "Epoch:11\tStep:400/1200\t\tLoss:0.02381954002402469\n",
      "Epoch:11\tStep:500/1200\t\tLoss:0.006744107522873555\n",
      "Epoch:11\tStep:600/1200\t\tLoss:0.020496833885899676\n",
      "Epoch:11\tStep:700/1200\t\tLoss:0.006152360621414341\n",
      "Epoch:11\tStep:800/1200\t\tLoss:0.011875509277576721\n",
      "Epoch:11\tStep:900/1200\t\tLoss:0.028366513401039708\n",
      "Epoch:11\tStep:1000/1200\t\tLoss:0.010861604043633013\n",
      "Epoch:11\tStep:1100/1200\t\tLoss:0.012650236143558865\n",
      "Epoch:11\tAccu:0.9049\n",
      "Epoch:12\tStep:0/1200\t\tLoss:0.015262803955248748\n",
      "Epoch:12\tStep:100/1200\t\tLoss:0.010942729939325171\n",
      "Epoch:12\tStep:200/1200\t\tLoss:0.02173198774049083\n",
      "Epoch:12\tStep:300/1200\t\tLoss:0.005575856713365686\n",
      "Epoch:12\tStep:400/1200\t\tLoss:0.02222417962480253\n",
      "Epoch:12\tStep:500/1200\t\tLoss:0.00569626548136454\n",
      "Epoch:12\tStep:600/1200\t\tLoss:0.020227173118364\n",
      "Epoch:12\tStep:700/1200\t\tLoss:0.005043823981887677\n",
      "Epoch:12\tStep:800/1200\t\tLoss:0.010975224642045903\n",
      "Epoch:12\tStep:900/1200\t\tLoss:0.027338579326165485\n",
      "Epoch:12\tStep:1000/1200\t\tLoss:0.009798880215891731\n",
      "Epoch:12\tStep:1100/1200\t\tLoss:0.01201797617857454\n",
      "Epoch:12\tAccu:0.9112\n",
      "Epoch:13\tStep:0/1200\t\tLoss:0.013129053079261637\n",
      "Epoch:13\tStep:100/1200\t\tLoss:0.009987860969618975\n",
      "Epoch:13\tStep:200/1200\t\tLoss:0.01997028672685434\n",
      "Epoch:13\tStep:300/1200\t\tLoss:0.005096334222758722\n",
      "Epoch:13\tStep:400/1200\t\tLoss:0.02074872390286305\n",
      "Epoch:13\tStep:500/1200\t\tLoss:0.004841133681144952\n",
      "Epoch:13\tStep:600/1200\t\tLoss:0.01994651235634696\n",
      "Epoch:13\tStep:700/1200\t\tLoss:0.0042059884768198014\n",
      "Epoch:13\tStep:800/1200\t\tLoss:0.01013330605632006\n",
      "Epoch:13\tStep:900/1200\t\tLoss:0.02623258914246177\n",
      "Epoch:13\tStep:1000/1200\t\tLoss:0.008934536415341275\n",
      "Epoch:13\tStep:1100/1200\t\tLoss:0.011503269224808267\n",
      "Epoch:13\tAccu:0.9162\n",
      "Epoch:14\tStep:0/1200\t\tLoss:0.01156531670844127\n",
      "Epoch:14\tStep:100/1200\t\tLoss:0.009164231261252688\n",
      "Epoch:14\tStep:200/1200\t\tLoss:0.018375136836728524\n",
      "Epoch:14\tStep:300/1200\t\tLoss:0.00475991802791759\n",
      "Epoch:14\tStep:400/1200\t\tLoss:0.019326085086941443\n",
      "Epoch:14\tStep:500/1200\t\tLoss:0.004120826662483709\n",
      "Epoch:14\tStep:600/1200\t\tLoss:0.01966065483421746\n",
      "Epoch:14\tStep:700/1200\t\tLoss:0.0035668421555098764\n",
      "Epoch:14\tStep:800/1200\t\tLoss:0.009362493885079636\n",
      "Epoch:14\tStep:900/1200\t\tLoss:0.025122470406019982\n",
      "Epoch:14\tStep:1000/1200\t\tLoss:0.008173861254795101\n",
      "Epoch:14\tStep:1100/1200\t\tLoss:0.01104961171522081\n",
      "Epoch:14\tAccu:0.9216\n",
      "Epoch:15\tStep:0/1200\t\tLoss:0.010446907943598439\n",
      "Epoch:15\tStep:100/1200\t\tLoss:0.008444252744611963\n",
      "Epoch:15\tStep:200/1200\t\tLoss:0.016988903744439333\n",
      "Epoch:15\tStep:300/1200\t\tLoss:0.004556021799814657\n",
      "Epoch:15\tStep:400/1200\t\tLoss:0.017912434023363313\n",
      "Epoch:15\tStep:500/1200\t\tLoss:0.0035040364914084026\n",
      "Epoch:15\tStep:600/1200\t\tLoss:0.01937480194857156\n",
      "Epoch:15\tStep:700/1200\t\tLoss:0.0030646996317243262\n",
      "Epoch:15\tStep:800/1200\t\tLoss:0.00865396663677541\n",
      "Epoch:15\tStep:900/1200\t\tLoss:0.024068704655405813\n",
      "Epoch:15\tStep:1000/1200\t\tLoss:0.007473095607737917\n",
      "Epoch:15\tStep:1100/1200\t\tLoss:0.010630992730977508\n",
      "Epoch:15\tAccu:0.9253\n",
      "Epoch:16\tStep:0/1200\t\tLoss:0.00961181976080366\n",
      "Epoch:16\tStep:100/1200\t\tLoss:0.00783565210213377\n",
      "Epoch:16\tStep:200/1200\t\tLoss:0.015784431848327302\n",
      "Epoch:16\tStep:300/1200\t\tLoss:0.004451090939947413\n",
      "Epoch:16\tStep:400/1200\t\tLoss:0.01650469076345316\n",
      "Epoch:16\tStep:500/1200\t\tLoss:0.0029857452952541212\n",
      "Epoch:16\tStep:600/1200\t\tLoss:0.0190874518702635\n",
      "Epoch:16\tStep:700/1200\t\tLoss:0.002665701527621177\n",
      "Epoch:16\tStep:800/1200\t\tLoss:0.007994823874405492\n",
      "Epoch:16\tStep:900/1200\t\tLoss:0.023112432884344832\n",
      "Epoch:16\tStep:1000/1200\t\tLoss:0.006825222339212927\n",
      "Epoch:16\tStep:1100/1200\t\tLoss:0.01024501541491108\n",
      "Epoch:16\tAccu:0.9294\n",
      "Epoch:17\tStep:0/1200\t\tLoss:0.008947931752521473\n",
      "Epoch:17\tStep:100/1200\t\tLoss:0.00734428676241801\n",
      "Epoch:17\tStep:200/1200\t\tLoss:0.014731275655328249\n",
      "Epoch:17\tStep:300/1200\t\tLoss:0.004406079756113927\n",
      "Epoch:17\tStep:400/1200\t\tLoss:0.015153003447906111\n",
      "Epoch:17\tStep:500/1200\t\tLoss:0.0025649367845337295\n",
      "Epoch:17\tStep:600/1200\t\tLoss:0.01879366779102156\n",
      "Epoch:17\tStep:700/1200\t\tLoss:0.002353767751061264\n",
      "Epoch:17\tStep:800/1200\t\tLoss:0.007380070672740981\n",
      "Epoch:17\tStep:900/1200\t\tLoss:0.022267078659649126\n",
      "Epoch:17\tStep:1000/1200\t\tLoss:0.006233017699408937\n",
      "Epoch:17\tStep:1100/1200\t\tLoss:0.009893215919156107\n",
      "Epoch:17\tAccu:0.9321\n",
      "Epoch:18\tStep:0/1200\t\tLoss:0.008396407739227162\n",
      "Epoch:18\tStep:100/1200\t\tLoss:0.006959410001555953\n",
      "Epoch:18\tStep:200/1200\t\tLoss:0.013806791782453408\n",
      "Epoch:18\tStep:300/1200\t\tLoss:0.0043878828540702425\n",
      "Epoch:18\tStep:400/1200\t\tLoss:0.013921845307767277\n",
      "Epoch:18\tStep:500/1200\t\tLoss:0.0022330374823064333\n",
      "Epoch:18\tStep:600/1200\t\tLoss:0.018490809456983788\n",
      "Epoch:18\tStep:700/1200\t\tLoss:0.002117613856373043\n",
      "Epoch:18\tStep:800/1200\t\tLoss:0.006811748778279842\n",
      "Epoch:18\tStep:900/1200\t\tLoss:0.021525424462043433\n",
      "Epoch:18\tStep:1000/1200\t\tLoss:0.005695404392225205\n",
      "Epoch:18\tStep:1100/1200\t\tLoss:0.009567837413380978\n",
      "Epoch:18\tAccu:0.9355\n",
      "Epoch:19\tStep:0/1200\t\tLoss:0.00792959940707666\n",
      "Epoch:19\tStep:100/1200\t\tLoss:0.006657780580008041\n",
      "Epoch:19\tStep:200/1200\t\tLoss:0.012986986614432684\n",
      "Epoch:19\tStep:300/1200\t\tLoss:0.004372322211333901\n",
      "Epoch:19\tStep:400/1200\t\tLoss:0.012851515599872269\n",
      "Epoch:19\tStep:500/1200\t\tLoss:0.001973890051006442\n",
      "Epoch:19\tStep:600/1200\t\tLoss:0.018182858054988312\n",
      "Epoch:19\tStep:700/1200\t\tLoss:0.0019442292415863536\n",
      "Epoch:19\tStep:800/1200\t\tLoss:0.0062932170519411045\n",
      "Epoch:19\tStep:900/1200\t\tLoss:0.020868286747476296\n",
      "Epoch:19\tStep:1000/1200\t\tLoss:0.005207700061233041\n",
      "Epoch:19\tStep:1100/1200\t\tLoss:0.009251749213180598\n",
      "Epoch:19\tAccu:0.9387\n",
      "Epoch:20\tStep:0/1200\t\tLoss:0.007533818141271121\n",
      "Epoch:20\tStep:100/1200\t\tLoss:0.00641360532918412\n",
      "Epoch:20\tStep:200/1200\t\tLoss:0.012248489875025446\n",
      "Epoch:20\tStep:300/1200\t\tLoss:0.004347406678291712\n",
      "Epoch:20\tStep:400/1200\t\tLoss:0.011955395028868507\n",
      "Epoch:20\tStep:500/1200\t\tLoss:0.0017684145324334576\n",
      "Epoch:20\tStep:600/1200\t\tLoss:0.017879009601526278\n",
      "Epoch:20\tStep:700/1200\t\tLoss:0.0018192513196900802\n",
      "Epoch:20\tStep:800/1200\t\tLoss:0.005825989805638306\n",
      "Epoch:20\tStep:900/1200\t\tLoss:0.02027127803067534\n",
      "Epoch:20\tStep:1000/1200\t\tLoss:0.004764828015544112\n",
      "Epoch:20\tStep:1100/1200\t\tLoss:0.008926161665175118\n",
      "Epoch:20\tAccu:0.9412\n"
     ]
    }
   ],
   "metadata": {}
  },
  {
   "cell_type": "code",
   "execution_count": 20,
   "source": [
    "plt.figure()\n",
    "plt.title(\"train loss\")\n",
    "plt.plot(train_loss)\n",
    "plt.show()"
   ],
   "outputs": [
    {
     "output_type": "display_data",
     "data": {
      "image/png": "[encoded data removed]",
      "text/plain": [
       "<Figure size 432x288 with 1 Axes>"
      ]
     },
     "metadata": {
      "needs_background": "light"
     }
    }
   ],
   "metadata": {}
  },
  {
   "cell_type": "code",
   "execution_count": 21,
   "source": [
    "plt.figure()\n",
    "plt.title(\"train accuracy\")\n",
    "plt.plot(train_accu)\n",
    "plt.show()"
   ],
   "outputs": [
    {
     "output_type": "display_data",
     "data": {
      "image/png": "[encoded data removed]",
      "text/plain": [
       "<Figure size 432x288 with 1 Axes>"
      ]
     },
     "metadata": {
      "needs_background": "light"
     }
    }
   ],
   "metadata": {}
  },
  {
   "cell_type": "code",
   "execution_count": null,
   "source": [],
   "outputs": [],
   "metadata": {}
  },
  {
   "cell_type": "code",
   "execution_count": null,
   "source": [],
   "outputs": [],
   "metadata": {}
  },
  {
   "cell_type": "code",
   "execution_count": null,
   "source": [],
   "outputs": [],
   "metadata": {}
  },
  {
   "cell_type": "code",
   "execution_count": null,
   "source": [],
   "outputs": [],
   "metadata": {}
  },
  {
   "cell_type": "code",
   "execution_count": null,
   "source": [],
   "outputs": [],
   "metadata": {}
  },
  {
   "cell_type": "code",
   "execution_count": null,
   "source": [],
   "outputs": [],
   "metadata": {}
  }
 ],
 "metadata": {
  "kernelspec": {
   "name": "python3811jvsc74a57bd0198670d92178980cbebc9ad2037ec6041e0a309b2dd6fc65df62e988742707e1",
   "language": "python",
   "display_name": "Python 3.8.11 64-bit ('data-science': conda)"
  },
  "language_info": {
   "codemirror_mode": {
    "name": "ipython",
    "version": 3
   },
   "file_extension": ".py",
   "mimetype": "text/x-python",
   "name": "python",
   "nbconvert_exporter": "python",
   "pygments_lexer": "ipython3",
   "version": "3.9.7"
  },
  "interpreter": {
   "hash": "aa2247bb1f54396893af684bf4276cf87592187f854eddfa84e385f7b3b738dd"
  }
 },
 "nbformat": 4,
 "nbformat_minor": 4
}