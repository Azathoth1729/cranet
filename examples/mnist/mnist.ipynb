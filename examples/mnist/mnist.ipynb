{
 "cells": [
  {
   "cell_type": "code",
   "execution_count": 1,
   "metadata": {},
   "outputs": [
    {
     "name": "stdout",
     "output_type": "stream",
     "text": [
      "0.1.3\n"
     ]
    }
   ],
   "source": [
    "import cranet\n",
    "from cranet import nn, optim\n",
    "from cranet.nn import functional as F\n",
    "from cranet.data import Dataset, DataLoader\n",
    "\n",
    "import numpy as np\n",
    "from matplotlib import pyplot as plt\n",
    "from sklearn.metrics import confusion_matrix\n",
    "\n",
    "import itertools\n",
    "import os\n",
    "\n",
    "print(cranet.__version__)"
   ]
  },
  {
   "cell_type": "code",
   "execution_count": 2,
   "metadata": {},
   "outputs": [],
   "source": [
    "class MnistDataset(Dataset):\n",
    "    train_img = 'train-images-idx3-ubyte'\n",
    "    train_lab = 'train-labels-idx1-ubyte'\n",
    "    test_img = 't10k-images-idx3-ubyte'\n",
    "    test_lab = 't10k-labels-idx1-ubyte'\n",
    "\n",
    "    def __init__(self, root, mode, transform=None, transform_target=None):\n",
    "        self.mode = mode\n",
    "        self.transform = transform\n",
    "        self.transform_target = transform_target\n",
    "        self.images = []\n",
    "        self.labels = []\n",
    "        self._load_data(os.path.join(root, 'MNIST', 'raw'))\n",
    "\n",
    "    def _load_data(self, data_dir):\n",
    "        if self.mode == 'train':\n",
    "            image_file = os.path.join(data_dir, self.train_img)\n",
    "            label_file = os.path.join(data_dir, self.train_lab)\n",
    "        elif self.mode == 'test':\n",
    "            image_file = os.path.join(data_dir, self.test_img)\n",
    "            label_file = os.path.join(data_dir, self.test_lab)\n",
    "        else:\n",
    "            raise RuntimeError('mode must be train or test')\n",
    "\n",
    "        with open(image_file, 'rb') as f:\n",
    "            f.read(4)  # magic\n",
    "            self.size = int.from_bytes(f.read(4), \"big\")\n",
    "            r = int.from_bytes(f.read(4), \"big\")\n",
    "            c = int.from_bytes(f.read(4), \"big\")\n",
    "            for _ in range(self.size):\n",
    "                mat = []\n",
    "                for i in range(r):\n",
    "                    mat.append([])\n",
    "                    for j in range(c):\n",
    "                        mat[i].append(int.from_bytes(f.read(1), \"big\"))\n",
    "                self.images.append(np.array(mat))\n",
    "\n",
    "        with open(label_file, 'rb') as f:\n",
    "            f.read(4)  # magic\n",
    "            sz = int.from_bytes(f.read(4), \"big\")  # size\n",
    "            assert self.size == sz\n",
    "            for _ in range(self.size):\n",
    "                lab = np.array(int.from_bytes(f.read(1), \"big\"))\n",
    "                self.labels.append(lab)\n",
    "\n",
    "    def __len__(self):\n",
    "        return self.size\n",
    "\n",
    "    def __getitem__(self, idx):\n",
    "        img = self.images[idx]\n",
    "        lab = self.labels[idx]\n",
    "\n",
    "        if self.transform is not None:\n",
    "            img = self.transform(img)\n",
    "        if self.transform_target is not None:\n",
    "            lab = self.transform_target(lab)\n",
    "\n",
    "        return img, lab\n"
   ]
  },
  {
   "cell_type": "code",
   "execution_count": 3,
   "metadata": {},
   "outputs": [],
   "source": [
    "def trans(x):\n",
    "    x = x.reshape(28*28)\n",
    "    return cranet.as_tensor(x)\n",
    "\n",
    "\n",
    "def trans_lab(x):\n",
    "    return cranet.as_tensor(x)\n",
    "\n",
    "\n",
    "train_ds = MnistDataset('data', 'train', trans, trans_lab)\n",
    "test_ds = MnistDataset('data', 'test', trans, trans_lab)"
   ]
  },
  {
   "cell_type": "code",
   "execution_count": 4,
   "metadata": {},
   "outputs": [],
   "source": [
    "train_ld = DataLoader(train_ds, 64)\n",
    "test_ld = DataLoader(test_ds, 1000)"
   ]
  },
  {
   "cell_type": "code",
   "execution_count": 5,
   "metadata": {},
   "outputs": [],
   "source": [
    "sample_image_batch, sample_label_batch = next(iter(train_ld))\n",
    "sample_image = sample_image_batch.numpy()[0]\n",
    "sample_label = sample_label_batch.numpy()[0]"
   ]
  },
  {
   "cell_type": "code",
   "execution_count": 6,
   "metadata": {},
   "outputs": [
    {
     "name": "stdout",
     "output_type": "stream",
     "text": [
      "(64, 784)\n",
      "(64,)\n"
     ]
    }
   ],
   "source": [
    "print(sample_image_batch.shape)\n",
    "print(sample_label_batch.shape)"
   ]
  },
  {
   "cell_type": "code",
   "execution_count": 7,
   "metadata": {},
   "outputs": [
    {
     "data": {
      "text/plain": [
       "<matplotlib.image.AxesImage at 0x7f027b142370>"
      ]
     },
     "execution_count": 7,
     "metadata": {},
     "output_type": "execute_result"
    },
    {
     "data": {
      "image/png": "[encoded data removed]",
      "text/plain": [
       "<Figure size 432x288 with 1 Axes>"
      ]
     },
     "metadata": {
      "needs_background": "light"
     },
     "output_type": "display_data"
    }
   ],
   "source": [
    "plt.imshow(sample_image.reshape(28, 28))"
   ]
  },
  {
   "cell_type": "code",
   "execution_count": 8,
   "metadata": {},
   "outputs": [
    {
     "name": "stdout",
     "output_type": "stream",
     "text": [
      "5\n"
     ]
    }
   ],
   "source": [
    "print(sample_label)"
   ]
  },
  {
   "cell_type": "code",
   "execution_count": 9,
   "metadata": {},
   "outputs": [],
   "source": [
    "class Model(nn.Module):\n",
    "    def __init__(self):\n",
    "        super().__init__()\n",
    "        self.l0 = nn.Linear(28 * 28, 64)\n",
    "        self.l1 = nn.Linear(64, 64)\n",
    "        self.l2 = nn.Linear(64, 32)\n",
    "        self.final = nn.Linear(32, 10)\n",
    "\n",
    "    def forward(self, x: cranet.Tensor) -> cranet.Tensor:\n",
    "        x = self.l0(x)\n",
    "        x = F.sigmoid(x)\n",
    "        x = self.l1(x)\n",
    "        x = F.sigmoid(x)\n",
    "        x = self.l2(x)\n",
    "        x = F.sigmoid(x)\n",
    "        x = self.final(x)\n",
    "        x = F.log_softmax(x, dim=1)\n",
    "        return x\n"
   ]
  },
  {
   "cell_type": "code",
   "execution_count": null,
   "metadata": {},
   "outputs": [],
   "source": [
    "model = Model()"
   ]
  },
  {
   "cell_type": "code",
   "execution_count": 10,
   "metadata": {},
   "outputs": [
    {
     "name": "stdout",
     "output_type": "stream",
     "text": [
      "Model(\n",
      "  (l0): Linear(in_features=784, out_features=64, bias=True)\n",
      "  (l1): Linear(in_features=64, out_features=64, bias=True)\n",
      "  (l2): Linear(in_features=64, out_features=32, bias=True)\n",
      "  (final): Linear(in_features=32, out_features=10, bias=True)\n",
      ")\n"
     ]
    }
   ],
   "source": [
    "print(model)"
   ]
  },
  {
   "cell_type": "code",
   "execution_count": 11,
   "metadata": {},
   "outputs": [],
   "source": [
    "optm = optim.Adam(model.parameters())"
   ]
  },
  {
   "cell_type": "code",
   "execution_count": 12,
   "metadata": {},
   "outputs": [],
   "source": [
    "def train(model, train_loader, optimizer, epoch):\n",
    "    model.train()\n",
    "    for batch_idx, (inp, lab) in enumerate(train_loader):\n",
    "        optimizer.zero_grad()\n",
    "        out = model(inp)\n",
    "        loss = F.nll_loss(out, lab)\n",
    "        loss.backward()\n",
    "        optimizer.step()\n",
    "        loss_v = loss.item()\n",
    "        if batch_idx % 100 == 0:\n",
    "            print('Train Epoch: {} [{}/{} ({:.0f}%)]\\tLoss: {:.6f}'.format(\n",
    "                epoch, batch_idx * 64, len(train_loader.dataset),\n",
    "                100. * batch_idx / len(train_loader), loss_v))\n"
   ]
  },
  {
   "cell_type": "code",
   "execution_count": 13,
   "metadata": {},
   "outputs": [],
   "source": [
    "def test(model, loader, label=''):\n",
    "    model.eval()\n",
    "    loss = 0\n",
    "    correct = 0\n",
    "    with cranet.no_grad():\n",
    "        for inp, lab in loader:\n",
    "            out = model(inp)\n",
    "            loss += F.nll_loss(out, lab, reduction='sum').item()\n",
    "            pre = out.numpy().argmax(axis=1)\n",
    "            correct += (pre == lab.numpy()).sum().item()\n",
    "\n",
    "    data_size = len(loader.dataset)\n",
    "    loss /= data_size\n",
    "    accu = correct / data_size\n",
    "    print('\\n{} set: Average loss: {:.4f}, Accuracy: {}/{} ({:.0f}%)\\n'.format(\n",
    "        label, loss, correct, data_size, accu*100.))\n",
    "\n",
    "    return accu, loss\n"
   ]
  },
  {
   "cell_type": "code",
   "execution_count": 14,
   "metadata": {},
   "outputs": [],
   "source": [
    "train_loss = []\n",
    "train_accu = []\n",
    "test_loss = []\n",
    "test_accu = []"
   ]
  },
  {
   "cell_type": "code",
   "execution_count": 21,
   "metadata": {},
   "outputs": [
    {
     "name": "stderr",
     "output_type": "stream",
     "text": [
      "/home/shizuku/.conda/envs/py3.9/lib/python3.9/site-packages/cranet/autograd/function.py:309: RuntimeWarning: overflow encountered in exp\n",
      "  data = 1 / (1 + np.exp(-x.data))\n"
     ]
    },
    {
     "name": "stdout",
     "output_type": "stream",
     "text": [
      "Train Epoch: 0 [0/60000 (0%)]\tLoss: 0.190372\n",
      "Train Epoch: 0 [6400/60000 (11%)]\tLoss: 0.259034\n",
      "Train Epoch: 0 [12800/60000 (21%)]\tLoss: 0.253684\n",
      "Train Epoch: 0 [19200/60000 (32%)]\tLoss: 0.284294\n",
      "Train Epoch: 0 [25600/60000 (43%)]\tLoss: 0.249503\n",
      "Train Epoch: 0 [32000/60000 (53%)]\tLoss: 0.336298\n",
      "Train Epoch: 0 [38400/60000 (64%)]\tLoss: 0.161647\n",
      "Train Epoch: 0 [44800/60000 (75%)]\tLoss: 0.260069\n",
      "Train Epoch: 0 [51200/60000 (85%)]\tLoss: 0.210908\n",
      "Train Epoch: 0 [57600/60000 (96%)]\tLoss: 0.276423\n",
      "\n",
      "Train set: Average loss: 0.2555, Accuracy: 55295/60000 (92%)\n",
      "\n",
      "\n",
      "Test set: Average loss: 0.2678, Accuracy: 9163/10000 (92%)\n",
      "\n",
      "Train Epoch: 1 [0/60000 (0%)]\tLoss: 0.215108\n",
      "Train Epoch: 1 [6400/60000 (11%)]\tLoss: 0.210064\n",
      "Train Epoch: 1 [12800/60000 (21%)]\tLoss: 0.163466\n",
      "Train Epoch: 1 [19200/60000 (32%)]\tLoss: 0.333208\n",
      "Train Epoch: 1 [25600/60000 (43%)]\tLoss: 0.229240\n",
      "Train Epoch: 1 [32000/60000 (53%)]\tLoss: 0.349771\n",
      "Train Epoch: 1 [38400/60000 (64%)]\tLoss: 0.208137\n",
      "Train Epoch: 1 [44800/60000 (75%)]\tLoss: 0.277744\n",
      "Train Epoch: 1 [51200/60000 (85%)]\tLoss: 0.263061\n",
      "Train Epoch: 1 [57600/60000 (96%)]\tLoss: 0.373625\n",
      "\n",
      "Train set: Average loss: 0.2923, Accuracy: 54527/60000 (91%)\n",
      "\n",
      "\n",
      "Test set: Average loss: 0.3087, Accuracy: 9011/10000 (90%)\n",
      "\n",
      "Train Epoch: 2 [0/60000 (0%)]\tLoss: 0.266269\n",
      "Train Epoch: 2 [6400/60000 (11%)]\tLoss: 0.308736\n",
      "Train Epoch: 2 [12800/60000 (21%)]\tLoss: 0.289456\n",
      "Train Epoch: 2 [19200/60000 (32%)]\tLoss: 0.280790\n",
      "Train Epoch: 2 [25600/60000 (43%)]\tLoss: 0.325475\n",
      "Train Epoch: 2 [32000/60000 (53%)]\tLoss: 0.292829\n",
      "Train Epoch: 2 [38400/60000 (64%)]\tLoss: 0.249594\n",
      "Train Epoch: 2 [44800/60000 (75%)]\tLoss: 0.377201\n",
      "Train Epoch: 2 [51200/60000 (85%)]\tLoss: 0.236714\n",
      "Train Epoch: 2 [57600/60000 (96%)]\tLoss: 0.320231\n",
      "\n",
      "Train set: Average loss: 0.2524, Accuracy: 55351/60000 (92%)\n",
      "\n",
      "\n",
      "Test set: Average loss: 0.2635, Accuracy: 9190/10000 (92%)\n",
      "\n",
      "Train Epoch: 3 [0/60000 (0%)]\tLoss: 0.174682\n",
      "Train Epoch: 3 [6400/60000 (11%)]\tLoss: 0.238417\n",
      "Train Epoch: 3 [12800/60000 (21%)]\tLoss: 0.243454\n",
      "Train Epoch: 3 [19200/60000 (32%)]\tLoss: 0.455434\n",
      "Train Epoch: 3 [25600/60000 (43%)]\tLoss: 0.287263\n",
      "Train Epoch: 3 [32000/60000 (53%)]\tLoss: 0.290099\n",
      "Train Epoch: 3 [38400/60000 (64%)]\tLoss: 0.137623\n",
      "Train Epoch: 3 [44800/60000 (75%)]\tLoss: 0.347503\n",
      "Train Epoch: 3 [51200/60000 (85%)]\tLoss: 0.185850\n",
      "Train Epoch: 3 [57600/60000 (96%)]\tLoss: 0.384254\n",
      "\n",
      "Train set: Average loss: 0.2595, Accuracy: 55224/60000 (92%)\n",
      "\n",
      "\n",
      "Test set: Average loss: 0.2675, Accuracy: 9197/10000 (92%)\n",
      "\n",
      "Train Epoch: 4 [0/60000 (0%)]\tLoss: 0.297805\n",
      "Train Epoch: 4 [6400/60000 (11%)]\tLoss: 0.338078\n",
      "Train Epoch: 4 [12800/60000 (21%)]\tLoss: 0.386014\n",
      "Train Epoch: 4 [19200/60000 (32%)]\tLoss: 0.296299\n",
      "Train Epoch: 4 [25600/60000 (43%)]\tLoss: 0.202200\n",
      "Train Epoch: 4 [32000/60000 (53%)]\tLoss: 0.244765\n",
      "Train Epoch: 4 [38400/60000 (64%)]\tLoss: 0.236567\n",
      "Train Epoch: 4 [44800/60000 (75%)]\tLoss: 0.364621\n",
      "Train Epoch: 4 [51200/60000 (85%)]\tLoss: 0.143108\n",
      "Train Epoch: 4 [57600/60000 (96%)]\tLoss: 0.331667\n",
      "\n",
      "Train set: Average loss: 0.2326, Accuracy: 55739/60000 (93%)\n",
      "\n",
      "\n",
      "Test set: Average loss: 0.2391, Accuracy: 9271/10000 (93%)\n",
      "\n",
      "Train Epoch: 5 [0/60000 (0%)]\tLoss: 0.226595\n",
      "Train Epoch: 5 [6400/60000 (11%)]\tLoss: 0.334522\n",
      "Train Epoch: 5 [12800/60000 (21%)]\tLoss: 0.165189\n",
      "Train Epoch: 5 [19200/60000 (32%)]\tLoss: 0.259287\n",
      "Train Epoch: 5 [25600/60000 (43%)]\tLoss: 0.282519\n",
      "Train Epoch: 5 [32000/60000 (53%)]\tLoss: 0.309038\n",
      "Train Epoch: 5 [38400/60000 (64%)]\tLoss: 0.192961\n",
      "Train Epoch: 5 [44800/60000 (75%)]\tLoss: 0.301788\n",
      "Train Epoch: 5 [51200/60000 (85%)]\tLoss: 0.287526\n",
      "Train Epoch: 5 [57600/60000 (96%)]\tLoss: 0.349917\n",
      "\n",
      "Train set: Average loss: 0.2387, Accuracy: 55617/60000 (93%)\n",
      "\n",
      "\n",
      "Test set: Average loss: 0.2460, Accuracy: 9274/10000 (93%)\n",
      "\n",
      "Train Epoch: 6 [0/60000 (0%)]\tLoss: 0.222838\n",
      "Train Epoch: 6 [6400/60000 (11%)]\tLoss: 0.317952\n",
      "Train Epoch: 6 [12800/60000 (21%)]\tLoss: 0.141860\n",
      "Train Epoch: 6 [19200/60000 (32%)]\tLoss: 0.326481\n",
      "Train Epoch: 6 [25600/60000 (43%)]\tLoss: 0.222098\n",
      "Train Epoch: 6 [32000/60000 (53%)]\tLoss: 0.448630\n",
      "Train Epoch: 6 [38400/60000 (64%)]\tLoss: 0.192309\n",
      "Train Epoch: 6 [44800/60000 (75%)]\tLoss: 0.336485\n",
      "Train Epoch: 6 [51200/60000 (85%)]\tLoss: 0.164934\n",
      "Train Epoch: 6 [57600/60000 (96%)]\tLoss: 0.335054\n",
      "\n",
      "Train set: Average loss: 0.2323, Accuracy: 55712/60000 (93%)\n",
      "\n",
      "\n",
      "Test set: Average loss: 0.2366, Accuracy: 9276/10000 (93%)\n",
      "\n",
      "Train Epoch: 7 [0/60000 (0%)]\tLoss: 0.247827\n",
      "Train Epoch: 7 [6400/60000 (11%)]\tLoss: 0.329072\n",
      "Train Epoch: 7 [12800/60000 (21%)]\tLoss: 0.167687\n",
      "Train Epoch: 7 [19200/60000 (32%)]\tLoss: 0.275773\n",
      "Train Epoch: 7 [25600/60000 (43%)]\tLoss: 0.256970\n",
      "Train Epoch: 7 [32000/60000 (53%)]\tLoss: 0.397500\n",
      "Train Epoch: 7 [38400/60000 (64%)]\tLoss: 0.125976\n",
      "Train Epoch: 7 [44800/60000 (75%)]\tLoss: 0.217397\n",
      "Train Epoch: 7 [51200/60000 (85%)]\tLoss: 0.135129\n",
      "Train Epoch: 7 [57600/60000 (96%)]\tLoss: 0.353259\n",
      "\n",
      "Train set: Average loss: 0.2391, Accuracy: 55649/60000 (93%)\n",
      "\n",
      "\n",
      "Test set: Average loss: 0.2419, Accuracy: 9265/10000 (93%)\n",
      "\n",
      "Train Epoch: 8 [0/60000 (0%)]\tLoss: 0.229365\n",
      "Train Epoch: 8 [6400/60000 (11%)]\tLoss: 0.289772\n",
      "Train Epoch: 8 [12800/60000 (21%)]\tLoss: 0.136950\n",
      "Train Epoch: 8 [19200/60000 (32%)]\tLoss: 0.425607\n",
      "Train Epoch: 8 [25600/60000 (43%)]\tLoss: 0.244554\n",
      "Train Epoch: 8 [32000/60000 (53%)]\tLoss: 0.335888\n",
      "Train Epoch: 8 [38400/60000 (64%)]\tLoss: 0.217154\n",
      "Train Epoch: 8 [44800/60000 (75%)]\tLoss: 0.262088\n",
      "Train Epoch: 8 [51200/60000 (85%)]\tLoss: 0.151283\n",
      "Train Epoch: 8 [57600/60000 (96%)]\tLoss: 0.299572\n",
      "\n",
      "Train set: Average loss: 0.2289, Accuracy: 55785/60000 (93%)\n",
      "\n",
      "\n",
      "Test set: Average loss: 0.2474, Accuracy: 9236/10000 (92%)\n",
      "\n",
      "Train Epoch: 9 [0/60000 (0%)]\tLoss: 0.207255\n",
      "Train Epoch: 9 [6400/60000 (11%)]\tLoss: 0.234513\n",
      "Train Epoch: 9 [12800/60000 (21%)]\tLoss: 0.167928\n",
      "Train Epoch: 9 [19200/60000 (32%)]\tLoss: 0.281552\n",
      "Train Epoch: 9 [25600/60000 (43%)]\tLoss: 0.270932\n",
      "Train Epoch: 9 [32000/60000 (53%)]\tLoss: 0.282909\n",
      "Train Epoch: 9 [38400/60000 (64%)]\tLoss: 0.215013\n",
      "Train Epoch: 9 [44800/60000 (75%)]\tLoss: 0.281709\n",
      "Train Epoch: 9 [51200/60000 (85%)]\tLoss: 0.189667\n",
      "Train Epoch: 9 [57600/60000 (96%)]\tLoss: 0.343933\n",
      "\n",
      "Train set: Average loss: 0.2202, Accuracy: 55934/60000 (93%)\n",
      "\n",
      "\n",
      "Test set: Average loss: 0.2301, Accuracy: 9325/10000 (93%)\n",
      "\n"
     ]
    }
   ],
   "source": [
    "for epoch in range(10):\n",
    "    train(model, train_ld, optm, epoch)\n",
    "    accu, loss = test(model, train_ld, 'Train')\n",
    "    train_loss.append(loss)\n",
    "    train_accu.append(accu)\n",
    "    accu, loss = test(model, test_ld, 'Test')\n",
    "    test_loss.append(loss)\n",
    "    test_accu.append(accu)\n"
   ]
  },
  {
   "cell_type": "code",
   "execution_count": 22,
   "metadata": {},
   "outputs": [
    {
     "data": {
      "image/png": "[encoded data removed]",
      "text/plain": [
       "<Figure size 432x288 with 1 Axes>"
      ]
     },
     "metadata": {
      "needs_background": "light"
     },
     "output_type": "display_data"
    }
   ],
   "source": [
    "plt.figure()\n",
    "plt.title('loss')\n",
    "plt.plot(train_loss, label='train loss')\n",
    "plt.plot(test_loss, label='test loss')\n",
    "plt.legend()\n",
    "plt.show()"
   ]
  },
  {
   "cell_type": "code",
   "execution_count": 23,
   "metadata": {},
   "outputs": [
    {
     "data": {
      "image/png": "[encoded data removed]",
      "text/plain": [
       "<Figure size 432x288 with 1 Axes>"
      ]
     },
     "metadata": {
      "needs_background": "light"
     },
     "output_type": "display_data"
    }
   ],
   "source": [
    "plt.figure()\n",
    "plt.title(\"accuracy\")\n",
    "plt.plot(train_accu, label='train_accu')\n",
    "plt.plot(test_accu, label='test_accu')\n",
    "plt.legend()\n",
    "plt.show()"
   ]
  },
  {
   "cell_type": "code",
   "execution_count": 24,
   "metadata": {},
   "outputs": [],
   "source": [
    "def eval(model, loader):\n",
    "    pre_arr = []\n",
    "    tar_arr = []\n",
    "    for inp, tar in loader:\n",
    "        out = model(inp)\n",
    "        pre = out.numpy().argmax(axis=1)\n",
    "        pre_arr.append(pre)\n",
    "        tar_arr.append(tar.numpy())\n",
    "    pre_arr = np.concatenate(pre_arr)\n",
    "    tar_arr = np.concatenate(tar_arr)\n",
    "    return confusion_matrix(tar_arr, pre_arr)\n"
   ]
  },
  {
   "cell_type": "code",
   "execution_count": 25,
   "metadata": {},
   "outputs": [],
   "source": [
    "cm = eval(model, test_ld)"
   ]
  },
  {
   "cell_type": "code",
   "execution_count": null,
   "metadata": {},
   "outputs": [],
   "source": [
    "def plot_confusion_matrix(cm,\n",
    "                          target_names,\n",
    "                          title='Confusion matrix',\n",
    "                          cmap=None,\n",
    "                          normalize=True):\n",
    "    \"\"\"\n",
    "    given a sklearn confusion matrix (cm), make a nice plot\n",
    "\n",
    "    Arguments\n",
    "    ---------\n",
    "    cm:           confusion matrix from sklearn.metrics.confusion_matrix\n",
    "\n",
    "    target_names: given classification classes such as [0, 1, 2]\n",
    "                  the class names, for example: ['high', 'medium', 'low']\n",
    "\n",
    "    title:        the text to display at the top of the matrix\n",
    "\n",
    "    cmap:         the gradient of the values displayed from matplotlib.pyplot.cm\n",
    "                  see http://matplotlib.org/examples/color/colormaps_reference.html\n",
    "                  plt.get_cmap('jet') or plt.cm.Blues\n",
    "\n",
    "    normalize:    If False, plot the raw numbers\n",
    "                  If True, plot the proportions\n",
    "\n",
    "    Usage\n",
    "    -----\n",
    "    plot_confusion_matrix(cm           = cm,                  # confusion matrix created by\n",
    "                                                              # sklearn.metrics.confusion_matrix\n",
    "                          normalize    = True,                # show proportions\n",
    "                          target_names = y_labels_vals,       # list of names of the classes\n",
    "                          title        = best_estimator_name) # title of graph\n",
    "\n",
    "    Citiation\n",
    "    ---------\n",
    "    http://scikit-learn.org/stable/auto_examples/model_selection/plot_confusion_matrix.html\n",
    "\n",
    "    \"\"\"\n",
    "    accuracy = np.trace(cm) / float(np.sum(cm))\n",
    "    misclass = 1 - accuracy\n",
    "\n",
    "    if cmap is None:\n",
    "        cmap = plt.get_cmap('Blues')\n",
    "\n",
    "    plt.figure(figsize=(8, 6))\n",
    "    plt.imshow(cm, interpolation='nearest', cmap=cmap)\n",
    "    plt.title(title)\n",
    "    plt.colorbar()\n",
    "\n",
    "    if target_names is not None:\n",
    "        tick_marks = np.arange(len(target_names))\n",
    "        plt.xticks(tick_marks, target_names, rotation=45)\n",
    "        plt.yticks(tick_marks, target_names)\n",
    "\n",
    "    if normalize:\n",
    "        cm = cm.astype('float') / cm.sum(axis=1)[:, np.newaxis]\n",
    "\n",
    "    thresh = cm.max() / 1.5 if normalize else cm.max() / 2\n",
    "    for i, j in itertools.product(range(cm.shape[0]), range(cm.shape[1])):\n",
    "        if normalize:\n",
    "            plt.text(j, i, \"{:0.4f}\".format(cm[i, j]),\n",
    "                     horizontalalignment=\"center\",\n",
    "                     color=\"white\" if cm[i, j] > thresh else \"black\")\n",
    "        else:\n",
    "            plt.text(j, i, \"{:,}\".format(cm[i, j]),\n",
    "                     horizontalalignment=\"center\",\n",
    "                     color=\"white\" if cm[i, j] > thresh else \"black\")\n",
    "\n",
    "    plt.tight_layout()\n",
    "    plt.ylabel('True label')\n",
    "    plt.xlabel('Predicted label\\naccuracy={:0.4f}; misclass={:0.4f}'.format(\n",
    "        accuracy, misclass))\n",
    "    plt.show()\n"
   ]
  },
  {
   "cell_type": "code",
   "execution_count": 26,
   "metadata": {},
   "outputs": [
    {
     "data": {
      "image/png": "[encoded data removed]",
      "text/plain": [
       "<Figure size 576x432 with 2 Axes>"
      ]
     },
     "metadata": {
      "needs_background": "light"
     },
     "output_type": "display_data"
    }
   ],
   "source": [
    "plot_confusion_matrix(cm, [0, 1, 2, 3, 4, 5, 6, 7, 8, 9])"
   ]
  },
  {
   "cell_type": "code",
   "execution_count": null,
   "metadata": {},
   "outputs": [],
   "source": []
  },
  {
   "cell_type": "code",
   "execution_count": null,
   "metadata": {},
   "outputs": [],
   "source": []
  },
  {
   "cell_type": "code",
   "execution_count": null,
   "metadata": {},
   "outputs": [],
   "source": []
  },
  {
   "cell_type": "code",
   "execution_count": null,
   "metadata": {},
   "outputs": [],
   "source": []
  }
 ],
 "metadata": {
  "interpreter": {
   "hash": "b89d7100bc25b91e21f760c78c1c5d4e44459f90518fd170ba80cad75240bc7f"
  },
  "kernelspec": {
   "display_name": "Python 3 (ipykernel)",
   "language": "python",
   "name": "python3"
  },
  "language_info": {
   "codemirror_mode": {
    "name": "ipython",
    "version": 3
   },
   "file_extension": ".py",
   "mimetype": "text/x-python",
   "name": "python",
   "nbconvert_exporter": "python",
   "pygments_lexer": "ipython3",
   "version": "3.9.7"
  }
 },
 "nbformat": 4,
 "nbformat_minor": 4
}
