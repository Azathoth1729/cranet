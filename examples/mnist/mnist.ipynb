{
 "cells": [
  {
   "cell_type": "code",
   "execution_count": 1,
   "metadata": {},
   "outputs": [
    {
     "name": "stdout",
     "output_type": "stream",
     "text": [
      "0.1.1\n"
     ]
    }
   ],
   "source": [
    "import dpln\n",
    "from dpln import nn, optim\n",
    "from dpln.nn import functional as F\n",
    "from dpln.util import load_pickle\n",
    "from dpln.data import Dataset, DataLoader\n",
    "\n",
    "import numpy as np\n",
    "from matplotlib import pyplot as plt\n",
    "\n",
    "print(dpln.__version__)"
   ]
  },
  {
   "cell_type": "code",
   "execution_count": 2,
   "metadata": {},
   "outputs": [],
   "source": [
    "mnist = load_pickle(\"mnist.pkl\")"
   ]
  },
  {
   "cell_type": "code",
   "execution_count": 3,
   "metadata": {},
   "outputs": [],
   "source": [
    "class MnistDataset(Dataset):\n",
    "    def __init__(self, images, labels, transform=None, transform_target=None):\n",
    "        if len(images) != len(labels):\n",
    "            raise ValueError(\"length of images and labels must equal\")\n",
    "        self.images = images\n",
    "        self.labels = labels\n",
    "        self.transform = transform\n",
    "        self.transform_target = transform_target\n",
    "\n",
    "    def __len__(self):\n",
    "        return len(self.images)\n",
    "\n",
    "    def __getitem__(self, idx):\n",
    "        img = self.images[idx]\n",
    "        lab = self.labels[idx]\n",
    "        if self.transform:\n",
    "            img = self.transform(img)\n",
    "        if self.transform_target:\n",
    "            lab = self.transform_target(lab)\n",
    "        return img, lab\n"
   ]
  },
  {
   "cell_type": "code",
   "execution_count": 4,
   "metadata": {},
   "outputs": [],
   "source": [
    "def transform(img):\n",
    "    return img.reshape(28 * 28) / 256\n",
    "\n",
    "\n",
    "def transform_target(lab):\n",
    "    return np.array([lab])\n"
   ]
  },
  {
   "cell_type": "code",
   "execution_count": 5,
   "metadata": {},
   "outputs": [],
   "source": [
    "train_ds = MnistDataset(mnist[\"train_images\"], mnist[\"train_labels\"],\n",
    "                        transform=transform, transform_target=transform_target)\n",
    "test_ds = MnistDataset(mnist[\"test_images\"], mnist[\"test_labels\"],\n",
    "                       transform=transform, transform_target=transform_target)\n"
   ]
  },
  {
   "cell_type": "code",
   "execution_count": 6,
   "metadata": {},
   "outputs": [],
   "source": [
    "def batch_fn(batch):\n",
    "    images = []\n",
    "    labels = []\n",
    "    for i in batch:\n",
    "        images.append(i[0][np.newaxis, :])\n",
    "        labels.append(i[1])\n",
    "    b_img = dpln.Tensor(np.concatenate(images))\n",
    "    b_lab = dpln.Tensor(np.concatenate(labels).squeeze())\n",
    "    return b_img, b_lab\n"
   ]
  },
  {
   "cell_type": "code",
   "execution_count": 7,
   "metadata": {},
   "outputs": [],
   "source": [
    "train_ld = DataLoader(train_ds, 64, batch_fn)\n",
    "test_ld = DataLoader(test_ds, 1000, batch_fn)"
   ]
  },
  {
   "cell_type": "code",
   "execution_count": 8,
   "metadata": {},
   "outputs": [],
   "source": [
    "sample_image_batch, sample_label_batch = next(iter(train_ld))\n",
    "sample_image = sample_image_batch.numpy()[0].reshape(1, 784)\n",
    "sample_label = sample_label_batch.numpy()[0].reshape(1, 1)"
   ]
  },
  {
   "cell_type": "code",
   "execution_count": 9,
   "metadata": {},
   "outputs": [
    {
     "data": {
      "text/plain": [
       "<matplotlib.image.AxesImage at 0x7f4ca819f760>"
      ]
     },
     "execution_count": 9,
     "metadata": {},
     "output_type": "execute_result"
    },
    {
     "data": {
      "image/png": "[encoded data removed]",
      "text/plain": [
       "<Figure size 432x288 with 1 Axes>"
      ]
     },
     "metadata": {
      "needs_background": "light"
     },
     "output_type": "display_data"
    }
   ],
   "source": [
    "plt.imshow(sample_image.reshape(28, 28))"
   ]
  },
  {
   "cell_type": "code",
   "execution_count": 10,
   "metadata": {},
   "outputs": [
    {
     "name": "stdout",
     "output_type": "stream",
     "text": [
      "[[5]]\n"
     ]
    }
   ],
   "source": [
    "print(sample_label)"
   ]
  },
  {
   "cell_type": "code",
   "execution_count": 11,
   "metadata": {},
   "outputs": [],
   "source": [
    "class Model(nn.Module):\n",
    "    def __init__(self):\n",
    "        super().__init__()\n",
    "        self.l0 = nn.Linear(28 * 28, 64)\n",
    "        self.l1 = nn.Linear(64, 64)\n",
    "        self.l2 = nn.Linear(64, 32)\n",
    "        self.final = nn.Linear(32, 10)\n",
    "\n",
    "    def forward(self, x: dpln.Tensor) -> dpln.Tensor:\n",
    "        x = self.l0(x)\n",
    "        x = F.sigmoid(x)\n",
    "        x = self.l1(x)\n",
    "        x = F.sigmoid(x)\n",
    "        x = self.l2(x)\n",
    "        x = F.sigmoid(x)\n",
    "        x = self.final(x)\n",
    "        x = F.log_softmax(x, dim=1)\n",
    "        return x\n",
    "\n",
    "\n",
    "model = Model()\n"
   ]
  },
  {
   "cell_type": "code",
   "execution_count": 12,
   "metadata": {},
   "outputs": [
    {
     "name": "stdout",
     "output_type": "stream",
     "text": [
      "Model\n"
     ]
    }
   ],
   "source": [
    "print(model)"
   ]
  },
  {
   "cell_type": "code",
   "execution_count": 13,
   "metadata": {},
   "outputs": [],
   "source": [
    "optm = optim.SGD(model.parameters(), 1)"
   ]
  },
  {
   "cell_type": "code",
   "execution_count": 14,
   "metadata": {},
   "outputs": [],
   "source": [
    "train_loss = []\n",
    "train_accu = []"
   ]
  },
  {
   "cell_type": "code",
   "execution_count": 15,
   "metadata": {},
   "outputs": [],
   "source": [
    "def train_step(epoch: int, model, train_ld, optm):\n",
    "    batch_size = len(train_ld)\n",
    "    for b, (inp, tar) in enumerate(train_ld):\n",
    "        optm.zero_grad()\n",
    "        pre = model(inp)\n",
    "        loss = F.nll_loss(pre, tar)\n",
    "        loss.backward()\n",
    "        optm.step()\n",
    "        loss_v = loss.item()\n",
    "        train_loss.append(loss_v)\n",
    "        if b % 100 == 0:\n",
    "            print(f\"Epoch:{epoch + 1}\\tStep:{b}/{batch_size}\\t\\tLoss:{loss_v}\")\n"
   ]
  },
  {
   "cell_type": "code",
   "execution_count": 16,
   "metadata": {},
   "outputs": [],
   "source": [
    "def accuracy(model, test_ld) -> float:\n",
    "    correct = 0\n",
    "    total = 0\n",
    "    for (inp, tar) in test_ld:\n",
    "        pre = model(inp)\n",
    "        pre_am = pre.detach().numpy().argmax(axis=-1)\n",
    "        res = np.where(pre_am == tar.numpy(), 1, 0)\n",
    "        correct += res.sum()\n",
    "        total += res.size\n",
    "    return correct / total\n"
   ]
  },
  {
   "cell_type": "code",
   "execution_count": 17,
   "metadata": {},
   "outputs": [],
   "source": [
    "epochs = 20"
   ]
  },
  {
   "cell_type": "code",
   "execution_count": 18,
   "metadata": {},
   "outputs": [
    {
     "name": "stdout",
     "output_type": "stream",
     "text": [
      "Epoch:1\tStep:0/937\t\tLoss:2.35796923319804\n",
      "Epoch:1\tStep:100/937\t\tLoss:2.2950495267695796\n",
      "Epoch:1\tStep:200/937\t\tLoss:2.3153424519276027\n",
      "Epoch:1\tStep:300/937\t\tLoss:2.3175643580729672\n",
      "Epoch:1\tStep:400/937\t\tLoss:2.3103640793619515\n",
      "Epoch:1\tStep:500/937\t\tLoss:1.9279714554454217\n",
      "Epoch:1\tStep:600/937\t\tLoss:1.534294965971024\n",
      "Epoch:1\tStep:700/937\t\tLoss:1.1890119602066103\n",
      "Epoch:1\tStep:800/937\t\tLoss:0.9033053105182915\n",
      "Epoch:1\tStep:900/937\t\tLoss:0.7634134675867978\n",
      "Epoch:1\tAccu:0.7692\n",
      "Epoch:2\tStep:0/937\t\tLoss:0.7695984650634324\n",
      "Epoch:2\tStep:100/937\t\tLoss:0.44844474286984104\n",
      "Epoch:2\tStep:200/937\t\tLoss:0.44772734082730387\n",
      "Epoch:2\tStep:300/937\t\tLoss:0.48362132334120533\n",
      "Epoch:2\tStep:400/937\t\tLoss:0.43033034682680416\n",
      "Epoch:2\tStep:500/937\t\tLoss:0.42597644651360766\n",
      "Epoch:2\tStep:600/937\t\tLoss:0.35849316995787794\n",
      "Epoch:2\tStep:700/937\t\tLoss:0.4336141034177891\n",
      "Epoch:2\tStep:800/937\t\tLoss:0.25072797943913505\n",
      "Epoch:2\tStep:900/937\t\tLoss:0.32826953546877785\n",
      "Epoch:2\tAccu:0.9085\n",
      "Epoch:3\tStep:0/937\t\tLoss:0.328205550572946\n",
      "Epoch:3\tStep:100/937\t\tLoss:0.17229801440655712\n",
      "Epoch:3\tStep:200/937\t\tLoss:0.2162160921061113\n",
      "Epoch:3\tStep:300/937\t\tLoss:0.20000269144085348\n",
      "Epoch:3\tStep:400/937\t\tLoss:0.20857290198745013\n",
      "Epoch:3\tStep:500/937\t\tLoss:0.26324710194994494\n",
      "Epoch:3\tStep:600/937\t\tLoss:0.13288923980780476\n",
      "Epoch:3\tStep:700/937\t\tLoss:0.29929516546692947\n",
      "Epoch:3\tStep:800/937\t\tLoss:0.15724390916947856\n",
      "Epoch:3\tStep:900/937\t\tLoss:0.24013730019137486\n",
      "Epoch:3\tAccu:0.9293\n",
      "Epoch:4\tStep:0/937\t\tLoss:0.20526216951337156\n",
      "Epoch:4\tStep:100/937\t\tLoss:0.15399962198696288\n",
      "Epoch:4\tStep:200/937\t\tLoss:0.13897102033972095\n",
      "Epoch:4\tStep:300/937\t\tLoss:0.1494028441857117\n",
      "Epoch:4\tStep:400/937\t\tLoss:0.10288988636147213\n",
      "Epoch:4\tStep:500/937\t\tLoss:0.1334994864539408\n",
      "Epoch:4\tStep:600/937\t\tLoss:0.09763113867984344\n",
      "Epoch:4\tStep:700/937\t\tLoss:0.17129103195226203\n",
      "Epoch:4\tStep:800/937\t\tLoss:0.1341804958795485\n",
      "Epoch:4\tStep:900/937\t\tLoss:0.21435406202650098\n",
      "Epoch:4\tAccu:0.9418\n",
      "Epoch:5\tStep:0/937\t\tLoss:0.12155879026871508\n",
      "Epoch:5\tStep:100/937\t\tLoss:0.15848138632794223\n",
      "Epoch:5\tStep:200/937\t\tLoss:0.12210425485732176\n",
      "Epoch:5\tStep:300/937\t\tLoss:0.14825457487780763\n",
      "Epoch:5\tStep:400/937\t\tLoss:0.0915606908107692\n",
      "Epoch:5\tStep:500/937\t\tLoss:0.08126490645193074\n",
      "Epoch:5\tStep:600/937\t\tLoss:0.07999539062460816\n",
      "Epoch:5\tStep:700/937\t\tLoss:0.10041754849367587\n",
      "Epoch:5\tStep:800/937\t\tLoss:0.14044137181627941\n",
      "Epoch:5\tStep:900/937\t\tLoss:0.1572998950210898\n",
      "Epoch:5\tAccu:0.9482\n",
      "Epoch:6\tStep:0/937\t\tLoss:0.07857393378153309\n",
      "Epoch:6\tStep:100/937\t\tLoss:0.1432292012687561\n",
      "Epoch:6\tStep:200/937\t\tLoss:0.11057869590050537\n",
      "Epoch:6\tStep:300/937\t\tLoss:0.12437107660841158\n",
      "Epoch:6\tStep:400/937\t\tLoss:0.07380539068222465\n",
      "Epoch:6\tStep:500/937\t\tLoss:0.06370001395425634\n",
      "Epoch:6\tStep:600/937\t\tLoss:0.06243481303291481\n",
      "Epoch:6\tStep:700/937\t\tLoss:0.05255120710646758\n",
      "Epoch:6\tStep:800/937\t\tLoss:0.1375546353115208\n",
      "Epoch:6\tStep:900/937\t\tLoss:0.09501129932885613\n",
      "Epoch:6\tAccu:0.9539\n",
      "Epoch:7\tStep:0/937\t\tLoss:0.05240501728302005\n",
      "Epoch:7\tStep:100/937\t\tLoss:0.12920049834859293\n",
      "Epoch:7\tStep:200/937\t\tLoss:0.055713341435718544\n",
      "Epoch:7\tStep:300/937\t\tLoss:0.10028233753258092\n",
      "Epoch:7\tStep:400/937\t\tLoss:0.049583593705015416\n",
      "Epoch:7\tStep:500/937\t\tLoss:0.04404735589451016\n",
      "Epoch:7\tStep:600/937\t\tLoss:0.0681866300419666\n",
      "Epoch:7\tStep:700/937\t\tLoss:0.04120628577088763\n",
      "Epoch:7\tStep:800/937\t\tLoss:0.13984705279210416\n",
      "Epoch:7\tStep:900/937\t\tLoss:0.07226677032707365\n",
      "Epoch:7\tAccu:0.9577\n",
      "Epoch:8\tStep:0/937\t\tLoss:0.047812965274230436\n",
      "Epoch:8\tStep:100/937\t\tLoss:0.11547058951391087\n",
      "Epoch:8\tStep:200/937\t\tLoss:0.0495233457134585\n",
      "Epoch:8\tStep:300/937\t\tLoss:0.09909513240788795\n",
      "Epoch:8\tStep:400/937\t\tLoss:0.035111325357999906\n",
      "Epoch:8\tStep:500/937\t\tLoss:0.027989992584793205\n",
      "Epoch:8\tStep:600/937\t\tLoss:0.05596668508995281\n",
      "Epoch:8\tStep:700/937\t\tLoss:0.03502544373780837\n",
      "Epoch:8\tStep:800/937\t\tLoss:0.13974023303598002\n",
      "Epoch:8\tStep:900/937\t\tLoss:0.05136193407851418\n",
      "Epoch:8\tAccu:0.9618\n",
      "Epoch:9\tStep:0/937\t\tLoss:0.030331257003923116\n",
      "Epoch:9\tStep:100/937\t\tLoss:0.07580889966473985\n",
      "Epoch:9\tStep:200/937\t\tLoss:0.04673597655868572\n",
      "Epoch:9\tStep:300/937\t\tLoss:0.08351066803287595\n",
      "Epoch:9\tStep:400/937\t\tLoss:0.03598163274321415\n",
      "Epoch:9\tStep:500/937\t\tLoss:0.02549007493368114\n",
      "Epoch:9\tStep:600/937\t\tLoss:0.05061082222861729\n",
      "Epoch:9\tStep:700/937\t\tLoss:0.032413116142115256\n",
      "Epoch:9\tStep:800/937\t\tLoss:0.12773272621905069\n",
      "Epoch:9\tStep:900/937\t\tLoss:0.035009334509933876\n",
      "Epoch:9\tAccu:0.9651\n",
      "Epoch:10\tStep:0/937\t\tLoss:0.02106247775138074\n",
      "Epoch:10\tStep:100/937\t\tLoss:0.04349902334168297\n",
      "Epoch:10\tStep:200/937\t\tLoss:0.04544051519237338\n",
      "Epoch:10\tStep:300/937\t\tLoss:0.0740337661281619\n",
      "Epoch:10\tStep:400/937\t\tLoss:0.03042431160121562\n",
      "Epoch:10\tStep:500/937\t\tLoss:0.01968174037173224\n",
      "Epoch:10\tStep:600/937\t\tLoss:0.03002557818255722\n",
      "Epoch:10\tStep:700/937\t\tLoss:0.031121078276810196\n",
      "Epoch:10\tStep:800/937\t\tLoss:0.10943668740285398\n",
      "Epoch:10\tStep:900/937\t\tLoss:0.034742083635289196\n",
      "Epoch:10\tAccu:0.9632\n",
      "Epoch:11\tStep:0/937\t\tLoss:0.02963742526916275\n",
      "Epoch:11\tStep:100/937\t\tLoss:0.036423513067869825\n",
      "Epoch:11\tStep:200/937\t\tLoss:0.04020246076403657\n",
      "Epoch:11\tStep:300/937\t\tLoss:0.033709218479929595\n",
      "Epoch:11\tStep:400/937\t\tLoss:0.0395914962155359\n",
      "Epoch:11\tStep:500/937\t\tLoss:0.01141113303199063\n",
      "Epoch:11\tStep:600/937\t\tLoss:0.029536918469382258\n",
      "Epoch:11\tStep:700/937\t\tLoss:0.02466959959560209\n",
      "Epoch:11\tStep:800/937\t\tLoss:0.10703376861344066\n",
      "Epoch:11\tStep:900/937\t\tLoss:0.04853510490047132\n",
      "Epoch:11\tAccu:0.9617\n",
      "Epoch:12\tStep:0/937\t\tLoss:0.03511439770309605\n",
      "Epoch:12\tStep:100/937\t\tLoss:0.024768141129975323\n",
      "Epoch:12\tStep:200/937\t\tLoss:0.024725612939455844\n",
      "Epoch:12\tStep:300/937\t\tLoss:0.07199419268061702\n",
      "Epoch:12\tStep:400/937\t\tLoss:0.030041642828103322\n",
      "Epoch:12\tStep:500/937\t\tLoss:0.01065144504614812\n",
      "Epoch:12\tStep:600/937\t\tLoss:0.014718802204053966\n",
      "Epoch:12\tStep:700/937\t\tLoss:0.030565236627444217\n",
      "Epoch:12\tStep:800/937\t\tLoss:0.12187917364166195\n",
      "Epoch:12\tStep:900/937\t\tLoss:0.03496542106152026\n",
      "Epoch:12\tAccu:0.9669\n",
      "Epoch:13\tStep:0/937\t\tLoss:0.01642345115053414\n",
      "Epoch:13\tStep:100/937\t\tLoss:0.01814813173970542\n",
      "Epoch:13\tStep:200/937\t\tLoss:0.03629894065612467\n",
      "Epoch:13\tStep:300/937\t\tLoss:0.09827156361568141\n",
      "Epoch:13\tStep:400/937\t\tLoss:0.03419301238117801\n",
      "Epoch:13\tStep:500/937\t\tLoss:0.009226475221408683\n",
      "Epoch:13\tStep:600/937\t\tLoss:0.009014535146469457\n",
      "Epoch:13\tStep:700/937\t\tLoss:0.02041145956255122\n",
      "Epoch:13\tStep:800/937\t\tLoss:0.11278635863246311\n",
      "Epoch:13\tStep:900/937\t\tLoss:0.050033624717423286\n",
      "Epoch:13\tAccu:0.9676\n",
      "Epoch:14\tStep:0/937\t\tLoss:0.020668901393666936\n",
      "Epoch:14\tStep:100/937\t\tLoss:0.04403943211914747\n",
      "Epoch:14\tStep:200/937\t\tLoss:0.033902165454723715\n",
      "Epoch:14\tStep:300/937\t\tLoss:0.10322761172186123\n",
      "Epoch:14\tStep:400/937\t\tLoss:0.02775243870932432\n",
      "Epoch:14\tStep:500/937\t\tLoss:0.023633642823469456\n",
      "Epoch:14\tStep:600/937\t\tLoss:0.010456982919490834\n",
      "Epoch:14\tStep:700/937\t\tLoss:0.023254469507338255\n",
      "Epoch:14\tStep:800/937\t\tLoss:0.11968772942285498\n",
      "Epoch:14\tStep:900/937\t\tLoss:0.030452813690518107\n",
      "Epoch:14\tAccu:0.9669\n",
      "Epoch:15\tStep:0/937\t\tLoss:0.012719494857434094\n",
      "Epoch:15\tStep:100/937\t\tLoss:0.021680090803144605\n",
      "Epoch:15\tStep:200/937\t\tLoss:0.029039793641323877\n",
      "Epoch:15\tStep:300/937\t\tLoss:0.09724702546265013\n",
      "Epoch:15\tStep:400/937\t\tLoss:0.013379489789927937\n"
     ]
    }
   ],
   "source": [
    "for i in range(epochs):\n",
    "    train_step(i, model, train_ld, optm)\n",
    "    accu = accuracy(model, test_ld)\n",
    "    train_accu.append(accu)\n",
    "    print(f\"Epoch:{i+1}\\tAccu:{accu}\")\n"
   ]
  },
  {
   "cell_type": "code",
   "execution_count": null,
   "metadata": {},
   "outputs": [
    {
     "data": {
      "image/png": "[encoded data removed]",
      "text/plain": [
       "<Figure size 432x288 with 1 Axes>"
      ]
     },
     "metadata": {
      "needs_background": "light"
     },
     "output_type": "display_data"
    }
   ],
   "source": [
    "plt.figure()\n",
    "plt.title(\"train loss\")\n",
    "plt.plot(train_loss)\n",
    "plt.show()"
   ]
  },
  {
   "cell_type": "code",
   "execution_count": null,
   "metadata": {},
   "outputs": [
    {
     "data": {
      "image/png": "[encoded data removed]",
      "text/plain": [
       "<Figure size 432x288 with 1 Axes>"
      ]
     },
     "metadata": {
      "needs_background": "light"
     },
     "output_type": "display_data"
    }
   ],
   "source": [
    "plt.figure()\n",
    "plt.title(\"train accuracy\")\n",
    "plt.plot(train_accu)\n",
    "plt.show()"
   ]
  },
  {
   "cell_type": "code",
   "execution_count": null,
   "metadata": {},
   "outputs": [],
   "source": []
  },
  {
   "cell_type": "code",
   "execution_count": null,
   "metadata": {},
   "outputs": [],
   "source": []
  },
  {
   "cell_type": "code",
   "execution_count": null,
   "metadata": {},
   "outputs": [],
   "source": []
  },
  {
   "cell_type": "code",
   "execution_count": null,
   "metadata": {},
   "outputs": [],
   "source": []
  },
  {
   "cell_type": "code",
   "execution_count": null,
   "metadata": {},
   "outputs": [],
   "source": []
  },
  {
   "cell_type": "code",
   "execution_count": null,
   "metadata": {},
   "outputs": [],
   "source": []
  }
 ],
 "metadata": {
  "interpreter": {
   "hash": "b89d7100bc25b91e21f760c78c1c5d4e44459f90518fd170ba80cad75240bc7f"
  },
  "kernelspec": {
   "display_name": "Python 3.9.7 64-bit ('py3.9': conda)",
   "name": "python3"
  },
  "language_info": {
   "codemirror_mode": {
    "name": "ipython",
    "version": 3
   },
   "file_extension": ".py",
   "mimetype": "text/x-python",
   "name": "python",
   "nbconvert_exporter": "python",
   "pygments_lexer": "ipython3",
   "version": "3.9.7"
  }
 },
 "nbformat": 4,
 "nbformat_minor": 4
}
