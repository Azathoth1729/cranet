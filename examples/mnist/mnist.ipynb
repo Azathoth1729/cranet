{
 "cells": [
  {
   "cell_type": "code",
   "execution_count": null,
   "metadata": {},
   "outputs": [],
   "source": [
    "import dpln\n",
    "from dpln import nn, optim\n",
    "from dpln.nn import functional as F\n",
    "from dpln.util import load_pickle\n",
    "from dpln.data import Dataset, DataLoader\n",
    "\n",
    "import numpy as np\n",
    "from matplotlib import pyplot as plt\n",
    "\n",
    "print(dpln.__version__)"
   ]
  },
  {
   "cell_type": "code",
   "execution_count": null,
   "metadata": {},
   "outputs": [],
   "source": [
    "mnist = load_pickle(\"mnist.pkl\")"
   ]
  },
  {
   "cell_type": "code",
   "execution_count": null,
   "metadata": {},
   "outputs": [],
   "source": [
    "class MnistDataset(Dataset):\n",
    "    def __init__(self, images, labels, transform=None, transform_target=None):\n",
    "        if len(images) != len(labels):\n",
    "            raise ValueError(\"length of images and labels must equal\")\n",
    "        self.images = images\n",
    "        self.labels = labels\n",
    "        self.transform = transform\n",
    "        self.transform_target = transform_target\n",
    "\n",
    "    def __len__(self):\n",
    "        return len(self.images)\n",
    "\n",
    "    def __getitem__(self, idx):\n",
    "        img = self.images[idx]\n",
    "        lab = self.labels[idx]\n",
    "        if self.transform:\n",
    "            img = self.transform(img)\n",
    "        if self.transform_target:\n",
    "            lab = self.transform_target(lab)\n",
    "        return img, lab\n"
   ]
  },
  {
   "cell_type": "code",
   "execution_count": null,
   "metadata": {},
   "outputs": [],
   "source": [
    "def transform(img):\n",
    "    return img.reshape(28 * 28) / 256\n",
    "\n",
    "\n",
    "def transform_target(lab):\n",
    "    return np.array([lab])\n"
   ]
  },
  {
   "cell_type": "code",
   "execution_count": null,
   "metadata": {},
   "outputs": [],
   "source": [
    "train_ds = MnistDataset(mnist[\"train_images\"], mnist[\"train_labels\"],\n",
    "                        transform=transform, transform_target=transform_target)\n",
    "test_ds = MnistDataset(mnist[\"test_images\"], mnist[\"test_labels\"],\n",
    "                       transform=transform, transform_target=transform_target)\n"
   ]
  },
  {
   "cell_type": "code",
   "execution_count": null,
   "metadata": {},
   "outputs": [],
   "source": [
    "def batch_fn(batch):\n",
    "    images = []\n",
    "    labels = []\n",
    "    for i in batch:\n",
    "        images.append(i[0][np.newaxis, :])\n",
    "        labels.append(i[1])\n",
    "    b_img = dpln.Tensor(np.concatenate(images))\n",
    "    b_lab = dpln.Tensor(np.concatenate(labels).squeeze())\n",
    "    return b_img, b_lab\n"
   ]
  },
  {
   "cell_type": "code",
   "execution_count": null,
   "metadata": {},
   "outputs": [],
   "source": [
    "train_ld = DataLoader(train_ds, 64, batch_fn)\n",
    "test_ld = DataLoader(test_ds, 1000, batch_fn)"
   ]
  },
  {
   "cell_type": "code",
   "execution_count": null,
   "metadata": {},
   "outputs": [],
   "source": [
    "sample_image_batch, sample_label_batch = next(iter(train_ld))\n",
    "sample_image = sample_image_batch.numpy()[0].reshape(1, 784)\n",
    "sample_label = sample_label_batch.numpy()[0].reshape(1, 1)"
   ]
  },
  {
   "cell_type": "code",
   "execution_count": null,
   "metadata": {},
   "outputs": [],
   "source": [
    "plt.imshow(sample_image.reshape(28, 28))"
   ]
  },
  {
   "cell_type": "code",
   "execution_count": null,
   "metadata": {},
   "outputs": [],
   "source": [
    "print(sample_label)"
   ]
  },
  {
   "cell_type": "code",
   "execution_count": null,
   "metadata": {},
   "outputs": [],
   "source": [
    "class Model(nn.Module):\n",
    "    def __init__(self):\n",
    "        super().__init__()\n",
    "        self.l0 = nn.Linear(28 * 28, 64)\n",
    "        self.l1 = nn.Linear(64, 64)\n",
    "        self.l2 = nn.Linear(64, 32)\n",
    "        self.final = nn.Linear(32, 10)\n",
    "\n",
    "    def forward(self, x: dpln.Tensor) -> dpln.Tensor:\n",
    "        x = self.l0(x)\n",
    "        x = F.sigmoid(x)\n",
    "        x = self.l1(x)\n",
    "        x = F.sigmoid(x)\n",
    "        x = self.l2(x)\n",
    "        x = F.sigmoid(x)\n",
    "        x = self.final(x)\n",
    "        x = F.log_softmax(x, dim=1)\n",
    "        return x\n",
    "\n",
    "\n",
    "model = Model()\n"
   ]
  },
  {
   "cell_type": "code",
   "execution_count": null,
   "metadata": {},
   "outputs": [],
   "source": [
    "print(model)"
   ]
  },
  {
   "cell_type": "code",
   "execution_count": null,
   "metadata": {},
   "outputs": [],
   "source": [
    "optm = optim.SGD(model.parameters(), 1)"
   ]
  },
  {
   "cell_type": "code",
   "execution_count": null,
   "metadata": {},
   "outputs": [],
   "source": [
    "train_losses = []"
   ]
  },
  {
   "cell_type": "code",
   "execution_count": null,
   "metadata": {},
   "outputs": [],
   "source": [
    "def train(model: nn.Module, epoch: int, train_loader, optm):\n",
    "    train_loss = 0\n",
    "    for batch_idx, (inp, tar) in enumerate(train_loader):\n",
    "        optm.zero_grad()\n",
    "        pre = model(inp)\n",
    "        loss = F.nll_loss(pre, tar)\n",
    "        loss.backward()\n",
    "        optm.step()\n",
    "        loss_v = loss.item()\n",
    "        train_loss += loss_v\n",
    "        if batch_idx % 100 == 0:\n",
    "            print('Train Epoch: {} [{}/{} ({:.0f}%)]\\tLoss: {:.6f}'.format(\n",
    "                epoch, batch_idx * len(inp), len(train_loader.dataset),\n",
    "                100. * batch_idx / len(train_loader), loss.item()))\n",
    "    train_loss /= len(train_loader.dataset)\n",
    "    train_losses.append(train_loss)\n"
   ]
  },
  {
   "cell_type": "code",
   "execution_count": null,
   "metadata": {},
   "outputs": [],
   "source": [
    "test_losses = []\n",
    "test_accu = []"
   ]
  },
  {
   "cell_type": "code",
   "execution_count": null,
   "metadata": {},
   "outputs": [],
   "source": [
    "def test(model, test_loader):\n",
    "    test_loss = 0\n",
    "    correct = 0\n",
    "    for inp, tar in test_loader:\n",
    "        out = model(inp)\n",
    "        test_loss += F.nll_loss(out, tar, reduction='sum').item()\n",
    "        pred = out.argmax(dim=1, keepdim=True)\n",
    "        correct += pred.eq(tar.view_as(pred)).sum().item()\n",
    "\n",
    "    test_loss /= len(test_loader.dataset)\n",
    "    test_losses.append(test_loss)\n",
    "    test_a = 100. * correct / len(test_loader.dataset)\n",
    "    test_accu.append(test_a)\n",
    "    print('\\nTest set: Average loss: {:.4f}, Accuracy: {}/{} ({:.0f}%)\\n'.format(\n",
    "        test_loss, correct, len(test_loader.dataset),\n",
    "        test_a))\n"
   ]
  },
  {
   "cell_type": "code",
   "execution_count": null,
   "metadata": {},
   "outputs": [],
   "source": [
    "for i in range(20):\n",
    "    train(i, model, train_ld, optm)\n",
    "    test(model, test_ld)\n"
   ]
  },
  {
   "cell_type": "code",
   "execution_count": null,
   "metadata": {},
   "outputs": [],
   "source": [
    "plt.figure()\n",
    "plt.title(\"loss\")\n",
    "plt.plot(train_losses, label='train_loss')\n",
    "plt.plot(test_losses, label='test_loss')\n",
    "plt.legend()\n",
    "plt.show()"
   ]
  },
  {
   "cell_type": "code",
   "execution_count": null,
   "metadata": {},
   "outputs": [],
   "source": [
    "plt.figure()\n",
    "plt.title(\"accuracy\")\n",
    "plt.plot(test_accu, label='test_accu')\n",
    "plt.show()"
   ]
  },
  {
   "cell_type": "code",
   "execution_count": null,
   "metadata": {},
   "outputs": [],
   "source": []
  },
  {
   "cell_type": "code",
   "execution_count": null,
   "metadata": {},
   "outputs": [],
   "source": []
  },
  {
   "cell_type": "code",
   "execution_count": null,
   "metadata": {},
   "outputs": [],
   "source": []
  },
  {
   "cell_type": "code",
   "execution_count": null,
   "metadata": {},
   "outputs": [],
   "source": []
  },
  {
   "cell_type": "code",
   "execution_count": null,
   "metadata": {},
   "outputs": [],
   "source": []
  },
  {
   "cell_type": "code",
   "execution_count": null,
   "metadata": {},
   "outputs": [],
   "source": []
  }
 ],
 "metadata": {
  "interpreter": {
   "hash": "b89d7100bc25b91e21f760c78c1c5d4e44459f90518fd170ba80cad75240bc7f"
  },
  "kernelspec": {
   "display_name": "Python 3.9.7 64-bit ('py3.9': conda)",
   "name": "python3"
  },
  "language_info": {
   "codemirror_mode": {
    "name": "ipython",
    "version": 3
   },
   "file_extension": ".py",
   "mimetype": "text/x-python",
   "name": "python",
   "nbconvert_exporter": "python",
   "pygments_lexer": "ipython3",
   "version": "3.9.7"
  }
 },
 "nbformat": 4,
 "nbformat_minor": 4
}
