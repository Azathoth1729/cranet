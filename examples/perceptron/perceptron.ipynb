{
 "cells": [
  {
   "cell_type": "code",
   "execution_count": 55,
   "metadata": {},
   "outputs": [],
   "source": [
    "import cranet\n",
    "from cranet import Tensor\n",
    "import numpy as np\n",
    "from sklearn import datasets\n",
    "import matplotlib.pyplot as plt"
   ]
  },
  {
   "cell_type": "markdown",
   "metadata": {},
   "source": [
    "## 利用 sklearn 生成线性可分数据\n",
    "\n",
    "### 数据说明\n",
    "\n",
    "通过 `sklearn.datasets.make_classification`生成数据\n",
    "\n",
    "参数说明(数据信息):\n",
    "\n",
    "- `n_samples`: 采样个数\n",
    "- `n_features`: 数据类别\n",
    "- `n_redundant`: redundant features 数量\n",
    "- `n_informative`: informative features 数量\n",
    "- `n_clusters_per_class`: 每个 class 中 cluster 数量\n",
    "- `flip_y`: 随机交换样本的一段\n",
    "\n",
    "### 如何生成线性可分的数据\n",
    "\n",
    "sklearn 似乎没有直接支持生成线性可分数据的 API，这里我们通过一个循环不断生成数据并判断是否线性可分，若为判断为真则结束循环，否则循环继续\n",
    "\n",
    "代码参考自[stackoverflow](https://stackoverflow.com/questions/47961536/how-to-generate-linear-separable-dataset-by-using-sklearn-datasets-make-classifi)\n"
   ]
  },
  {
   "cell_type": "code",
   "execution_count": 56,
   "metadata": {},
   "outputs": [
    {
     "data": {
      "text/plain": "<Figure size 432x288 with 1 Axes>",
      "image/png": "[encoded data removed]"
     },
     "metadata": {
      "needs_background": "light"
     },
     "output_type": "display_data"
    }
   ],
   "source": [
    "separable = False\n",
    "while not separable:\n",
    "    samples = datasets.make_classification(\n",
    "        n_samples=100, n_features=2, n_redundant=0, n_informative=1, n_clusters_per_class=1, flip_y=-1)\n",
    "    red = samples[0][samples[1] == 0]\n",
    "    blue = samples[0][samples[1] == 1]\n",
    "    separable = any([red[:, k].max() < blue[:, k].min()\n",
    "                    or red[:, k].min() > blue[:, k].max() for k in range(2)])\n",
    "plt.plot(red[:, 0], red[:, 1], 'r.')\n",
    "plt.plot(blue[:, 0], blue[:, 1], 'b.')\n",
    "plt.show()"
   ]
  },
  {
   "cell_type": "markdown",
   "metadata": {},
   "source": [
    "## update rule\n",
    "假设$x, y$分别是数据和它们的标签\n",
    "\n",
    "对于每一个 $x_i \\in x, y_i \\in y$:\n",
    "$$\n",
    "\\begin{align*} \n",
    "w &\\leftarrow w + \\Delta w \\\\\n",
    "b &\\leftarrow b + \\Delta b \\\\\n",
    " \\text{where} \\quad \\Delta w &= \\alpha \\cdot (y_i - \\hat{y_i}) \\cdot x_i \\\\\n",
    "                    \\Delta b &= \\alpha \\cdot (y_i - \\hat{y_i})\n",
    "\\end{align*}\n",
    "$$\n",
    "\n",
    "其中, $\\alpha$是学习率, $\\hat{y_i}$是$y_i$对应的预测值\n"
   ]
  },
  {
   "cell_type": "code",
   "execution_count": 57,
   "metadata": {},
   "outputs": [],
   "source": [
    "class Perceptron:\n",
    "    def __init__(self, *shape):\n",
    "        \"\"\"parameters initialization\"\"\"\n",
    "        self.w = cranet.normal(shape, -1, 1)\n",
    "        self.b = cranet.normal((shape[0]), -1, 1)\n",
    "\n",
    "    def __call__(self, x):\n",
    "        \"\"\"linear output\"\"\"\n",
    "        return self.w @ x + self.b\n",
    "\n",
    "    def linear(self):\n",
    "        \"\"\"return a linear function\"\"\"\n",
    "        w = self.w[0]\n",
    "        return lambda x: (-w[0] * x - self.b) / w[1]\n",
    "\n",
    "    def predict(self, X):\n",
    "        \"\"\"predict input\"\"\"\n",
    "\n",
    "        return cranet.hardlim(self(X))\n",
    "\n",
    "    def fit(self, X: Tensor, Y: Tensor, epochs=1000, lr=1e-1) -> None:\n",
    "        \"\"\"Perceptron Learning Algorithm\"\"\"\n",
    "\n",
    "        for _ in range(epochs):\n",
    "            # training phase\n",
    "            for x, y in zip(X, Y):\n",
    "                y_pred = self.predict(x)\n",
    "                update = lr * (y - y_pred)\n",
    "\n",
    "                self.w += update * x.T\n",
    "                self.b += update\n"
   ]
  },
  {
   "cell_type": "code",
   "execution_count": 58,
   "metadata": {},
   "outputs": [],
   "source": [
    "perceptron = Perceptron(1, 2)"
   ]
  },
  {
   "cell_type": "code",
   "execution_count": 59,
   "metadata": {},
   "outputs": [],
   "source": [
    "def draw_line(model: Perceptron, draw_range=None, num_samples = 1000):\n",
    "    \"\"\"help function to display the output and original dataset\"\"\"\n",
    "    if draw_range is None:\n",
    "        draw_range = [-3, 3]\n",
    "    x_numpy = np.linspace(*draw_range, num =num_samples)\n",
    "    linear_func = model.linear()\n",
    "\n",
    "    out = np.concatenate([linear_func(i).numpy() for i in x_numpy])\n",
    "    # plt.figure(figsize=(4,4))\n",
    "    plt.xlim([-3, 3])\n",
    "    plt.ylim([-3, 3])\n",
    "\n",
    "    plt.plot(x_numpy, out, 'r.')\n",
    "    plt.plot(red[:, 0], red[:, 1], 'r.')\n",
    "    plt.plot(blue[:, 0], blue[:, 1], 'b.')"
   ]
  },
  {
   "cell_type": "markdown",
   "metadata": {},
   "source": [
    "## 未训练"
   ]
  },
  {
   "cell_type": "code",
   "execution_count": 60,
   "metadata": {},
   "outputs": [
    {
     "data": {
      "text/plain": "<Figure size 432x288 with 1 Axes>",
      "image/png": "[encoded data removed]"
     },
     "metadata": {
      "needs_background": "light"
     },
     "output_type": "display_data"
    }
   ],
   "source": [
    "draw_line(perceptron, [-3, 3])"
   ]
  },
  {
   "cell_type": "code",
   "execution_count": 61,
   "metadata": {},
   "outputs": [
    {
     "name": "stdout",
     "output_type": "stream",
     "text": [
      "(100, 2) (100,)\n",
      "(100, 2) (100,)\n"
     ]
    }
   ],
   "source": [
    "X, y = samples\n",
    "print(X.shape, y.shape)\n",
    "X_tensor = cranet.tensor(X)\n",
    "y_tensor = cranet.tensor(y)\n",
    "print(X_tensor.shape, y_tensor.shape)"
   ]
  },
  {
   "cell_type": "markdown",
   "metadata": {},
   "source": [
    "## 训练"
   ]
  },
  {
   "cell_type": "code",
   "execution_count": 62,
   "metadata": {},
   "outputs": [],
   "source": [
    "perceptron.fit(X_tensor, y_tensor)"
   ]
  },
  {
   "cell_type": "markdown",
   "metadata": {},
   "source": [
    "## 训练后"
   ]
  },
  {
   "cell_type": "code",
   "execution_count": 63,
   "metadata": {},
   "outputs": [
    {
     "data": {
      "text/plain": "<Figure size 432x288 with 1 Axes>",
      "image/png": "[encoded data removed]"
     },
     "metadata": {
      "needs_background": "light"
     },
     "output_type": "display_data"
    }
   ],
   "source": [
    "draw_line(perceptron, [-3, 3])"
   ]
  }
 ],
 "metadata": {
  "interpreter": {
   "hash": "a9314f46a7119c16abb04bcfc9d1bafd6189eebcbb9ce9170c9a9902c6ccdf1d"
  },
  "kernelspec": {
   "display_name": "Python 3.8.12 64-bit ('data-science': conda)",
   "language": "python",
   "name": "python3"
  },
  "language_info": {
   "codemirror_mode": {
    "name": "ipython",
    "version": 3
   },
   "file_extension": ".py",
   "mimetype": "text/x-python",
   "name": "python",
   "nbconvert_exporter": "python",
   "pygments_lexer": "ipython3",
   "version": "3.8.12"
  },
  "orig_nbformat": 4
 },
 "nbformat": 4,
 "nbformat_minor": 2
}