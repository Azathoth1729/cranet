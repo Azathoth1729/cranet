{
 "cells": [
  {
   "cell_type": "code",
   "execution_count": null,
   "metadata": {},
   "outputs": [],
   "source": [
    "import cranet\n",
    "from cranet import nn, optim\n",
    "from cranet.nn import functional as F\n",
    "from cranet.data import Dataset, DataLoader\n",
    "\n",
    "import numpy as np\n",
    "from matplotlib import pyplot as plt\n",
    "from scipy.io import loadmat\n",
    "\n",
    "cranet.__version__"
   ]
  },
  {
   "cell_type": "code",
   "execution_count": null,
   "metadata": {},
   "outputs": [],
   "source": [
    "train_mat = loadmat('train_32x32.mat')"
   ]
  },
  {
   "cell_type": "code",
   "execution_count": null,
   "metadata": {},
   "outputs": [],
   "source": [
    "class SvhnDataset(Dataset):\n",
    "    def __init__(self, mat, transform=None, transform_target=None) -> None:\n",
    "        super().__init__()\n",
    "        self.mat = mat\n",
    "        self.transform = transform\n",
    "        self.transform_target = transform_target\n",
    "\n",
    "    def __len__(self):\n",
    "        return self.mat['X'].shape[3]\n",
    "\n",
    "    def __getitem__(self, idx):\n",
    "        img = self.mat['X'][:, :, :, idx]\n",
    "        lab = self.mat['y'][idx, :]\n",
    "        if self.transform:\n",
    "            img = self.transform(img)\n",
    "        if self.transform_target:\n",
    "            lab = self.transform_target(lab)\n",
    "        return img, lab\n"
   ]
  },
  {
   "cell_type": "code",
   "execution_count": null,
   "metadata": {},
   "outputs": [],
   "source": [
    "def transform(img: np.ndarray):\n",
    "    img = img.transpose((2, 0, 1)).astype(np.float32)\n",
    "    return cranet.Tensor(img)\n",
    "\n",
    "\n",
    "def transform_target(lab: np.ndarray):\n",
    "    lab = lab.squeeze().astype(np.int64)\n",
    "    return cranet.Tensor([lab])\n",
    "\n",
    "\n",
    "train_ds = SvhnDataset(train_mat, transform=transform,\n",
    "                       transform_target=transform_target)\n"
   ]
  },
  {
   "cell_type": "code",
   "execution_count": null,
   "metadata": {},
   "outputs": [],
   "source": [
    "def batch_fn(p):\n",
    "    rx = cranet.concat([i[0].reshape(1, 3, 32, 32) for i in p], dim=0)\n",
    "    ry = cranet.concat([i[1].reshape(1) for i in p], dim=0)\n",
    "    return rx, ry\n",
    "\n",
    "\n",
    "train_ld = DataLoader(train_ds,  batch_size=64,\n",
    "                      batch_fn=batch_fn, shuffle=True)\n"
   ]
  },
  {
   "cell_type": "code",
   "execution_count": null,
   "metadata": {},
   "outputs": [],
   "source": [
    "sample_img, sample_lab = train_ld[0]"
   ]
  },
  {
   "cell_type": "code",
   "execution_count": null,
   "metadata": {},
   "outputs": [],
   "source": [
    "sample_img.shape"
   ]
  },
  {
   "cell_type": "code",
   "execution_count": null,
   "metadata": {},
   "outputs": [],
   "source": [
    "sample_lab.shape"
   ]
  },
  {
   "cell_type": "code",
   "execution_count": null,
   "metadata": {},
   "outputs": [],
   "source": [
    "class Model(nn.Module):\n",
    "    def __init__(self):\n",
    "        super().__init__()\n",
    "        self.conv0 = nn.Conv2d(3, 32, 3, padding=1)\n",
    "        self.conv1 = nn.Conv2d(32, 32, 3, padding=1)\n",
    "        self.dropout0 = nn.Dropout(0.25)\n",
    "        self.conv2 = nn.Conv2d(32, 64, 3, padding=1)\n",
    "        self.conv3 = nn.Conv2d(64, 64, 3, padding=1)\n",
    "        self.dropout1 = nn.Dropout(0.25)\n",
    "        self.linear0 = nn.Linear(64*8*8, 512)\n",
    "        self.dropout2 = nn.Dropout(0.5)\n",
    "        self.linear1 = nn.Linear(512, 10)\n",
    "\n",
    "    def forward(self, x):\n",
    "        x = self.conv0(x)\n",
    "        x = F.relu(x)\n",
    "        x = self.conv1(x)\n",
    "        x = F.relu(x)\n",
    "        x = F.max_pool2d(x, 2)\n",
    "        x = self.dropout0(x)\n",
    "        x = self.conv2(x)\n",
    "        x = F.relu(x)\n",
    "        x = self.conv3(x)\n",
    "        x = F.relu(x)\n",
    "        x = F.max_pool2d(x, 2)\n",
    "        x = self.dropout1(x)\n",
    "        x = F.flatten(x, start_dim=1)\n",
    "        x = self.linear0(x)\n",
    "        x = F.relu(x)\n",
    "        x = self.dropout2(x)\n",
    "        x = self.linear1(x)\n",
    "        out = F.log_softmax(x, dim=1)\n",
    "        return out\n"
   ]
  },
  {
   "cell_type": "code",
   "execution_count": null,
   "metadata": {},
   "outputs": [],
   "source": [
    "model = Model()"
   ]
  },
  {
   "cell_type": "code",
   "execution_count": null,
   "metadata": {},
   "outputs": [],
   "source": [
    "optm = optim.SGD(model.parameters(), 0.1)"
   ]
  },
  {
   "cell_type": "code",
   "execution_count": null,
   "metadata": {},
   "outputs": [],
   "source": [
    "train_loss = []"
   ]
  },
  {
   "cell_type": "code",
   "execution_count": null,
   "metadata": {},
   "outputs": [],
   "source": [
    "def train(epoch: int):\n",
    "    for i, (inp, lab) in enumerate(train_ld):\n",
    "        pre = model(inp)\n",
    "        loss = F.nll_loss(pre, lab)\n",
    "        optm.zero_grad()\n",
    "        loss.backward()\n",
    "        optm.step()\n",
    "        loss_v = loss.numpy()\n",
    "        train_loss.append(loss_v)\n",
    "        print(f\"Epoch:{epoch+1}\\t:Step:{i+1}\\tLoss:{loss_v}\")\n"
   ]
  },
  {
   "cell_type": "code",
   "execution_count": null,
   "metadata": {},
   "outputs": [],
   "source": [
    "epochs = 10"
   ]
  },
  {
   "cell_type": "code",
   "execution_count": null,
   "metadata": {
    "pycharm": {
     "name": "#%%\n"
    }
   },
   "outputs": [],
   "source": [
    "for i in range(epochs):\n",
    "    train(i)\n"
   ]
  }
 ],
 "metadata": {
  "interpreter": {
   "hash": "b89d7100bc25b91e21f760c78c1c5d4e44459f90518fd170ba80cad75240bc7f"
  },
  "kernelspec": {
   "display_name": "Python 3.9.7 64-bit ('py3.9': conda)",
   "name": "python3"
  },
  "language_info": {
   "codemirror_mode": {
    "name": "ipython",
    "version": 3
   },
   "file_extension": ".py",
   "mimetype": "text/x-python",
   "name": "python",
   "nbconvert_exporter": "python",
   "pygments_lexer": "ipython3",
   "version": "3.9.7"
  },
  "orig_nbformat": 4
 },
 "nbformat": 4,
 "nbformat_minor": 2
}