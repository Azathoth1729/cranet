{
 "cells": [
  {
   "cell_type": "markdown",
   "source": [
    "## curve fitting example"
   ],
   "metadata": {
    "collapsed": false
   }
  },
  {
   "cell_type": "code",
   "execution_count": 24,
   "metadata": {},
   "outputs": [],
   "source": [
    "import cranet\n",
    "from cranet import nn\n",
    "from cranet import data\n",
    "\n",
    "import numpy as np\n",
    "import matplotlib.pyplot as plt\n",
    "\n",
    "from typing import (\n",
    "    Any,\n",
    "    Sequence,\n",
    "    Callable,\n",
    ")"
   ]
  },
  {
   "cell_type": "code",
   "execution_count": 25,
   "metadata": {},
   "outputs": [],
   "source": [
    "def create_curve(func: Callable[[Any], Any], data_range: Iterable[int], sample_num: int):\n",
    "    x = np.linspace(*data_range, num=sample_num)\n",
    "    return x, func(x)\n",
    "\n",
    "\n",
    "def plot_curve(model, curve):\n",
    "    pred_curve = np.array([model(x).numpy() for x, _ in curve]).squeeze()\n",
    "    plt.scatter(curve.x, pred_curve)\n",
    "    return pred_curve"
   ]
  },
  {
   "cell_type": "code",
   "execution_count": 26,
   "metadata": {},
   "outputs": [],
   "source": [
    "sin = lambda x : 1 + np.sin(np.pi/4 * x)\n",
    "curve = create_curve(sin, [-2, 2], 30)"
   ]
  },
  {
   "cell_type": "code",
   "execution_count": 27,
   "metadata": {},
   "outputs": [
    {
     "data": {
      "text/plain": "Text(0.5, 1.0, '')"
     },
     "execution_count": 27,
     "metadata": {},
     "output_type": "execute_result"
    },
    {
     "data": {
      "text/plain": "<Figure size 432x288 with 1 Axes>",
      "image/png": "[encoded data removed]"
     },
     "metadata": {
      "needs_background": "light"
     },
     "output_type": "display_data"
    }
   ],
   "source": [
    "plt.scatter(*curve)\n",
    "plt.title(\"\")"
   ]
  },
  {
   "cell_type": "code",
   "execution_count": 28,
   "metadata": {},
   "outputs": [],
   "source": [
    "class CurveDataset(data.Dataset):\n",
    "    def __init__(self, curvedata, transform=None, target_transform=None):\n",
    "        self.x, self.y = curvedata\n",
    "        self.transform = transform\n",
    "        self.target_transform = target_transform\n",
    "        assert len(self.x) == len(\n",
    "            self.y), \"x_data and y_data of the curve data must have same length\"\n",
    "\n",
    "    def __len__(self):\n",
    "        return len(self.x)\n",
    "\n",
    "    def __getitem__(self, idx):\n",
    "        x_data = cranet.tensor(self.x[idx].reshape(1))\n",
    "        y_data = cranet.tensor(self.y[idx].reshape(1))\n",
    "        if self.transform:\n",
    "            x_data = self.transform(x_data)\n",
    "        if self.target_transform:\n",
    "            y_data = self.target_transform(y_data)\n",
    "        return x_data, y_data\n"
   ]
  },
  {
   "cell_type": "code",
   "execution_count": 29,
   "metadata": {},
   "outputs": [],
   "source": [
    "train_ds = CurveDataset(curve)\n",
    "train_dl = data.DataLoader(train_ds, shuffle=True)"
   ]
  },
  {
   "cell_type": "code",
   "execution_count": 30,
   "metadata": {},
   "outputs": [],
   "source": [
    "class FNN(nn.Module):\n",
    "    def __init__(self, features: Sequence[int]):\n",
    "        assert len(features)==3, \"features must be form of [a_1, a_2, a_3]\"\n",
    "        super().__init__()\n",
    "        self.layer = nn.Sequential(\n",
    "            nn.Linear(features[0], features[1]),\n",
    "            nn.Tanh(),\n",
    "            nn.Linear(features[1], features[2]),\n",
    "        )\n",
    "\n",
    "    def forward(self, x):\n",
    "        return self.layer(x)\n",
    "\n",
    "    def fit(self, curvedata, epochs, lr=1e-2, opt_func=cranet.optim.SGD, loss_func=cranet.nn.loss.MSELoss):\n",
    "        history = []\n",
    "        optimizer = opt_func(self.parameters(), lr=lr)\n",
    "        loss_func = loss_func()\n",
    "        for epoch in range(epochs):\n",
    "            # Training Phase\n",
    "            self.train()\n",
    "            train_losses = []\n",
    "            for x, y in curvedata:\n",
    "                pred = self(x)\n",
    "                loss = loss_func(pred, y)\n",
    "                train_losses.append(loss)\n",
    "                optimizer.zero_grad()\n",
    "                loss.backward()\n",
    "                optimizer.step()\n",
    "            result = cranet.stack(train_losses).mean().numpy()\n",
    "            if epoch % 10 == 0:\n",
    "                print(f\"{epoch}/{epochs} loss:{result}\")\n",
    "            history.append(result)\n",
    "\n",
    "        return history"
   ]
  },
  {
   "cell_type": "code",
   "execution_count": 31,
   "outputs": [],
   "source": [
    "fnn = FNN([1, 13, 1])"
   ],
   "metadata": {
    "collapsed": false,
    "pycharm": {
     "name": "#%%\n"
    }
   }
  },
  {
   "cell_type": "code",
   "execution_count": 32,
   "metadata": {},
   "outputs": [
    {
     "name": "stdout",
     "output_type": "stream",
     "text": [
      "0/100 loss:0.24337566294387233\n",
      "10/100 loss:0.024401023035708822\n",
      "20/100 loss:0.009597675808565222\n",
      "30/100 loss:0.003923907821589525\n",
      "40/100 loss:0.0018370310535067529\n",
      "50/100 loss:0.001086696791319689\n",
      "60/100 loss:0.0007958392694371998\n",
      "70/100 loss:0.0006534297119792735\n",
      "80/100 loss:0.0005601354993545865\n",
      "90/100 loss:0.00048758125573085805\n"
     ]
    }
   ],
   "source": [
    "history = fnn.fit(train_dl, epochs=100)"
   ]
  },
  {
   "cell_type": "code",
   "execution_count": 33,
   "metadata": {},
   "outputs": [
    {
     "data": {
      "text/plain": "Text(0, 0.5, 'loss')"
     },
     "execution_count": 33,
     "metadata": {},
     "output_type": "execute_result"
    },
    {
     "data": {
      "text/plain": "<Figure size 432x288 with 1 Axes>",
      "image/png": "[encoded data removed]"
     },
     "metadata": {
      "needs_background": "light"
     },
     "output_type": "display_data"
    }
   ],
   "source": [
    "plt.plot(history)\n",
    "plt.xlabel(\"epoch\")\n",
    "plt.ylabel(\"loss\")"
   ]
  },
  {
   "cell_type": "code",
   "execution_count": 34,
   "metadata": {
    "pycharm": {
     "name": "#%%\n"
    }
   },
   "outputs": [
    {
     "data": {
      "text/plain": "[<matplotlib.lines.Line2D at 0x7f085b86f100>]"
     },
     "execution_count": 34,
     "metadata": {},
     "output_type": "execute_result"
    },
    {
     "data": {
      "text/plain": "<Figure size 432x288 with 1 Axes>",
      "image/png": "[encoded data removed]"
     },
     "metadata": {
      "needs_background": "light"
     },
     "output_type": "display_data"
    }
   ],
   "source": [
    "plot_curve(fnn, train_ds)\n",
    "plt.plot(*curve, 'r')"
   ]
  }
 ],
 "metadata": {
  "interpreter": {
   "hash": "31f2aee4e71d21fbe5cf8b01ff0e069b9275f58929596ceb00d14d90e3e16cd6"
  },
  "kernelspec": {
   "display_name": "Python 3.8.10 64-bit",
   "language": "python",
   "name": "python3"
  },
  "language_info": {
   "codemirror_mode": {
    "name": "ipython",
    "version": 3
   },
   "file_extension": ".py",
   "mimetype": "text/x-python",
   "name": "python",
   "nbconvert_exporter": "python",
   "pygments_lexer": "ipython3",
   "version": "3.9.7"
  },
  "orig_nbformat": 4
 },
 "nbformat": 4,
 "nbformat_minor": 2
}