{
 "cells": [
  {
   "cell_type": "code",
   "execution_count": 1,
   "metadata": {},
   "outputs": [],
   "source": [
    "import cranet\n",
    "from cranet import nn\n",
    "from cranet import data\n",
    "\n",
    "import numpy as np\n",
    "import matplotlib.pyplot as plt\n",
    "\n",
    "from typing import (\n",
    "    Any,\n",
    "    Iterable,\n",
    "    Callable,\n",
    ")\n"
   ]
  },
  {
   "cell_type": "code",
   "execution_count": 2,
   "metadata": {},
   "outputs": [],
   "source": [
    "def create_curve(func: Callable[[Any], Any], data_range: Iterable[int], sample_num: int):\n",
    "    x = np.linspace(*data_range, num=sample_num)\n",
    "    return x, func(x)\n",
    "\n",
    "\n",
    "def plot_curve(model, curve):\n",
    "    pred_curve = np.array([model(x).numpy() for x, _ in curve]).squeeze()\n",
    "    plt.scatter(curve.x, pred_curve)\n",
    "    return pred_curve\n"
   ]
  },
  {
   "cell_type": "code",
   "execution_count": 3,
   "metadata": {},
   "outputs": [],
   "source": [
    "class FNN(nn.Module):\n",
    "    def __init__(self, features: Iterable[int]):\n",
    "        super().__init__()\n",
    "        self.layer = nn.Sequential(\n",
    "            nn.Linear(features[0], features[1]),\n",
    "            nn.Tanh(),\n",
    "            nn.Linear(features[1], features[2]),\n",
    "        )\n",
    "\n",
    "    def forward(self, x):\n",
    "        return self.layer(x)\n",
    "\n",
    "    def fit(self, curvedata, epochs, lr=1e-2, opt_func=cranet.optim.SGD, loss_func=cranet.nn.loss.MSELoss):\n",
    "        history = []\n",
    "        optimizer = opt_func(self.parameters(), lr=lr)\n",
    "        loss_func = loss_func()\n",
    "        for epoch in range(epochs):\n",
    "            # Training Phase\n",
    "            self.train()\n",
    "            train_losses = []\n",
    "            for x, y in curvedata:\n",
    "                pred = self(x)\n",
    "                loss = loss_func(pred, y)\n",
    "                train_losses.append(loss)\n",
    "                optimizer.zero_grad()\n",
    "                loss.backward()\n",
    "                optimizer.step()\n",
    "            result = cranet.stack(train_losses).mean().numpy()\n",
    "            if epoch % 10 == 0:\n",
    "                print(f\"{epoch}/{epochs} loss:{result}\")\n",
    "            history.append(result)\n",
    "\n",
    "        return history\n"
   ]
  },
  {
   "cell_type": "code",
   "execution_count": 4,
   "metadata": {},
   "outputs": [],
   "source": [
    "sin = lambda x : 1 + np.sin(np.pi/4 * x)\n",
    "curve = create_curve(sin, [-2, 2], 30)"
   ]
  },
  {
   "cell_type": "code",
   "execution_count": 5,
   "metadata": {},
   "outputs": [
    {
     "data": {
      "text/plain": [
       "Text(0.5, 1.0, '')"
      ]
     },
     "execution_count": 5,
     "metadata": {},
     "output_type": "execute_result"
    },
    {
     "data": {
      "image/png": "[encoded data removed]",
      "text/plain": [
       "<Figure size 432x288 with 1 Axes>"
      ]
     },
     "metadata": {
      "needs_background": "light"
     },
     "output_type": "display_data"
    }
   ],
   "source": [
    "plt.scatter(*curve)\n",
    "plt.title(\"\")"
   ]
  },
  {
   "cell_type": "code",
   "execution_count": 6,
   "metadata": {},
   "outputs": [],
   "source": [
    "class CurveDataset(data.Dataset):\n",
    "    def __init__(self, curvedata, transform=None, target_transform=None):\n",
    "        self.x, self.y = curvedata\n",
    "        self.transform = transform\n",
    "        self.target_transform = target_transform\n",
    "        assert len(self.x) == len(\n",
    "            self.y), \"x_data and y_data of the curve data must have same length\"\n",
    "\n",
    "    def __len__(self):\n",
    "        return len(self.x)\n",
    "\n",
    "    def __getitem__(self, idx):\n",
    "        x_data = cranet.tensor(self.x[idx].reshape(1))\n",
    "        y_data = cranet.tensor(self.y[idx].reshape(1))\n",
    "        if self.transform:\n",
    "            x_data = self.transform(x_data)\n",
    "        if self.target_transform:\n",
    "            y_data = self.target_transform(y_data)\n",
    "        return x_data, y_data\n"
   ]
  },
  {
   "cell_type": "code",
   "execution_count": 7,
   "metadata": {},
   "outputs": [],
   "source": [
    "train_ds = CurveDataset(curve)\n",
    "train_dl = data.DataLoader(train_ds, shuffle=True)"
   ]
  },
  {
   "cell_type": "code",
   "execution_count": 8,
   "metadata": {},
   "outputs": [],
   "source": [
    "fnn = FNN([1, 13, 1])"
   ]
  },
  {
   "cell_type": "code",
   "execution_count": 9,
   "metadata": {},
   "outputs": [
    {
     "name": "stdout",
     "output_type": "stream",
     "text": [
      "0/100 loss:0.2833610490949907\n",
      "10/100 loss:0.004296549747028176\n",
      "20/100 loss:0.0025440688814532078\n",
      "30/100 loss:0.0017744299902289395\n",
      "40/100 loss:0.0013939700090967139\n",
      "50/100 loss:0.0011805683859202108\n",
      "60/100 loss:0.001045605826491198\n",
      "70/100 loss:0.000951235525493451\n",
      "80/100 loss:0.0008800651943687943\n",
      "90/100 loss:0.0008234661197511603\n"
     ]
    }
   ],
   "source": [
    "history = fnn.fit(train_dl, epochs=100)"
   ]
  },
  {
   "cell_type": "code",
   "execution_count": 10,
   "metadata": {},
   "outputs": [
    {
     "data": {
      "text/plain": [
       "Text(0, 0.5, 'loss')"
      ]
     },
     "execution_count": 10,
     "metadata": {},
     "output_type": "execute_result"
    },
    {
     "data": {
      "image/png": "[encoded data removed]",
      "text/plain": [
       "<Figure size 432x288 with 1 Axes>"
      ]
     },
     "metadata": {
      "needs_background": "light"
     },
     "output_type": "display_data"
    }
   ],
   "source": [
    "plt.plot(history)\n",
    "plt.xlabel(\"epoch\")\n",
    "plt.ylabel(\"loss\")"
   ]
  },
  {
   "cell_type": "code",
   "execution_count": 11,
   "metadata": {
    "pycharm": {
     "name": "#%%\n"
    }
   },
   "outputs": [
    {
     "data": {
      "text/plain": [
       "[<matplotlib.lines.Line2D at 0x7ff9708202e0>]"
      ]
     },
     "execution_count": 11,
     "metadata": {},
     "output_type": "execute_result"
    },
    {
     "data": {
      "image/png": "[encoded data removed]",
      "text/plain": [
       "<Figure size 432x288 with 1 Axes>"
      ]
     },
     "metadata": {
      "needs_background": "light"
     },
     "output_type": "display_data"
    }
   ],
   "source": [
    "plot_curve(fnn, train_ds)\n",
    "plt.plot(*curve, 'r')"
   ]
  },
  {
   "cell_type": "code",
   "execution_count": null,
   "metadata": {},
   "outputs": [],
   "source": []
  },
  {
   "cell_type": "code",
   "execution_count": null,
   "metadata": {},
   "outputs": [],
   "source": []
  },
  {
   "cell_type": "code",
   "execution_count": null,
   "metadata": {},
   "outputs": [],
   "source": []
  }
 ],
 "metadata": {
  "interpreter": {
   "hash": "31f2aee4e71d21fbe5cf8b01ff0e069b9275f58929596ceb00d14d90e3e16cd6"
  },
  "kernelspec": {
   "display_name": "Python 3.8.10 64-bit",
   "language": "python",
   "name": "python3"
  },
  "language_info": {
   "codemirror_mode": {
    "name": "ipython",
    "version": 3
   },
   "file_extension": ".py",
   "mimetype": "text/x-python",
   "name": "python",
   "nbconvert_exporter": "python",
   "pygments_lexer": "ipython3",
   "version": "3.9.7"
  },
  "orig_nbformat": 4
 },
 "nbformat": 4,
 "nbformat_minor": 2
}